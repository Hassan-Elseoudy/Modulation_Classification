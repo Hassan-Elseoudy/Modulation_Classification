{
  "nbformat": 4,
  "nbformat_minor": 0,
  "metadata": {
    "colab": {
      "name": "Modulation Classification.ipynb",
      "version": "0.3.2",
      "provenance": [],
      "collapsed_sections": [
        "fNWYXiuPDxD2",
        "UObLB61ZD-Br"
      ]
    },
    "kernelspec": {
      "name": "python3",
      "display_name": "Python 3"
    },
    "accelerator": "GPU"
  },
  "cells": [
    {
      "cell_type": "code",
      "metadata": {
        "id": "9YvWxvVDEBYQ",
        "colab_type": "code",
        "outputId": "89270528-e905-467b-9d6f-aabc57fcb296",
        "colab": {
          "base_uri": "https://localhost:8080/",
          "height": 34
        }
      },
      "source": [
        "import _pickle as cPickle\n",
        "import numpy as np\n",
        "import matplotlib.pyplot as plt\n",
        "import scipy.integrate as it\n",
        "import keras\n",
        "from keras.models import Sequential\n",
        "from keras.layers import Dense, Activation\n",
        "from keras.layers.core import Reshape,Dense,Dropout,Activation,Flatten\n",
        "import keras.models as models\n",
        "from keras.layers.convolutional import Convolution2D, ZeroPadding2D\n",
        "from keras.regularizers import *\n",
        "from keras.optimizers import adam\n",
        "from sklearn.metrics import confusion_matrix\n",
        "plt.rcParams['figure.figsize'] = [15, 15]\n",
        "from tqdm import trange, tqdm"
      ],
      "execution_count": 0,
      "outputs": [
        {
          "output_type": "stream",
          "text": [
            "Using TensorFlow backend.\n"
          ],
          "name": "stderr"
        }
      ]
    },
    {
      "cell_type": "markdown",
      "metadata": {
        "id": "-tKp1d9GFzD5",
        "colab_type": "text"
      },
      "source": [
        "# 1. Download Data"
      ]
    },
    {
      "cell_type": "code",
      "metadata": {
        "id": "d7k8R79CEJkA",
        "colab_type": "code",
        "outputId": "9d218637-cb64-4239-f0b7-bf2dcfb7c224",
        "colab": {
          "base_uri": "https://localhost:8080/",
          "height": 204
        }
      },
      "source": [
        "!wget http://opendata.deepsig.io/datasets/2016.10/RML2016.10b.tar.bz2"
      ],
      "execution_count": 0,
      "outputs": [
        {
          "output_type": "stream",
          "text": [
            "--2019-05-08 09:58:41--  http://opendata.deepsig.io/datasets/2016.10/RML2016.10b.tar.bz2\n",
            "Resolving opendata.deepsig.io (opendata.deepsig.io)... 52.14.91.165\n",
            "Connecting to opendata.deepsig.io (opendata.deepsig.io)|52.14.91.165|:80... connected.\n",
            "HTTP request sent, awaiting response... 200 OK\n",
            "Length: 1245608913 (1.2G) [application/x-bzip2]\n",
            "Saving to: ‘RML2016.10b.tar.bz2’\n",
            "\n",
            "RML2016.10b.tar.bz2 100%[===================>]   1.16G  7.80MB/s    in 3m 4s   \n",
            "\n",
            "2019-05-08 10:01:51 (6.44 MB/s) - ‘RML2016.10b.tar.bz2’ saved [1245608913/1245608913]\n",
            "\n"
          ],
          "name": "stdout"
        }
      ]
    },
    {
      "cell_type": "code",
      "metadata": {
        "id": "V6TvVVI_EKnf",
        "colab_type": "code",
        "colab": {}
      },
      "source": [
        "!tar xf RML2016.10b.tar.bz2"
      ],
      "execution_count": 0,
      "outputs": []
    },
    {
      "cell_type": "code",
      "metadata": {
        "id": "zUccz4NdbmRH",
        "colab_type": "code",
        "colab": {}
      },
      "source": [
        "Xd = cPickle.load(open(\"RML2016.10b.dat\",'rb'),encoding = 'bytes')"
      ],
      "execution_count": 0,
      "outputs": []
    },
    {
      "cell_type": "code",
      "metadata": {
        "id": "kHn4RZrlMbU3",
        "colab_type": "code",
        "outputId": "be09e17c-d491-49f4-e132-8eac0b5db3c8",
        "colab": {
          "base_uri": "https://localhost:8080/",
          "height": 51
        }
      },
      "source": [
        "snrs,mods = map(lambda j: sorted(list(set(map(lambda x: x[j], Xd.keys())))), [1,0])\n",
        "X = list()  \n",
        "lbl = list()\n",
        "for mod in mods:\n",
        "    for snr in snrs:\n",
        "        X.append(Xd[(mod,snr)])\n",
        "        for i in range(Xd[(mod,snr)].shape[0]):  lbl.append((mod,snr))\n",
        "X = np.vstack(X)\n",
        "lbl = np.array(lbl)\n",
        "print(X.shape)\n",
        "print(lbl.shape)"
      ],
      "execution_count": 0,
      "outputs": [
        {
          "output_type": "stream",
          "text": [
            "(1200000, 2, 128)\n",
            "(1200000, 2)\n"
          ],
          "name": "stdout"
        }
      ]
    },
    {
      "cell_type": "markdown",
      "metadata": {
        "id": "ssDic586q6Ei",
        "colab_type": "text"
      },
      "source": [
        "**Formatting Data.**"
      ]
    },
    {
      "cell_type": "code",
      "metadata": {
        "id": "8HrTXbwPQ0L6",
        "colab_type": "code",
        "outputId": "41981b0c-8704-4b95-da85-9d654110c43a",
        "colab": {
          "base_uri": "https://localhost:8080/",
          "height": 34
        }
      },
      "source": [
        "data = list()  #1200000 example col[0] -> I-Signal col[1] -> Q-Signal col[2] -> SNR\n",
        "label = list() #1200000 label (Mod) for examples\n",
        "# data.clear();\n",
        "label.clear(); #Clearing to not overloading RAMs.\n",
        "\n",
        "for i in range(len(X)): \n",
        "  data.append([X[i][0],X[i][1],lbl[i][1]])\n",
        "  label.append(lbl[i][0])\n",
        "  \n",
        "data = np.array(data);\n",
        "label = np.array(label) #Numpyzing lists\n",
        "Xd.clear() #Kill them Now!\n",
        "\n",
        "print(label.shape)"
      ],
      "execution_count": 0,
      "outputs": [
        {
          "output_type": "stream",
          "text": [
            "(1200000,)\n"
          ],
          "name": "stdout"
        }
      ]
    },
    {
      "cell_type": "markdown",
      "metadata": {
        "id": "sh2CTq8jF4T9",
        "colab_type": "text"
      },
      "source": [
        "# 2. Create feature Spaces"
      ]
    },
    {
      "cell_type": "code",
      "metadata": {
        "id": "CQmXGdPQE01t",
        "colab_type": "code",
        "outputId": "15f3f011-4667-4aae-ad12-1a1a24b5522d",
        "colab": {
          "base_uri": "https://localhost:8080/",
          "height": 34
        }
      },
      "source": [
        "def getFeatureSpaces(data):\n",
        "  feature_space = list()\n",
        "  feature_space.clear()\n",
        "  for i in tqdm(range(len(data))):\n",
        "    I_signal = np.array(data[i][0])\n",
        "    Q_signal = np.array(data[i][1])   \n",
        "    diff_I = np.array(np.diff(data[i][0]))\n",
        "    diff_Q = np.array(np.diff(data[i][1])) \n",
        "    int_I = it.cumtrapz(data[i][0],initial=0)\n",
        "    int_Q = it.cumtrapz(data[i][1],initial=0) \n",
        "    feature_space.append([I_signal,Q_signal,diff_I,diff_Q,int_I,int_Q,np.add(diff_I,I_signal[1:]),np.add(diff_Q,Q_signal[1:])])\n",
        "  return np.array(feature_space)\n",
        "\n",
        "feature_space = getFeatureSpaces(data)"
      ],
      "execution_count": 0,
      "outputs": [
        {
          "output_type": "stream",
          "text": [
            "100%|██████████| 1200000/1200000 [00:54<00:00, 22080.57it/s]\n"
          ],
          "name": "stderr"
        }
      ]
    },
    {
      "cell_type": "code",
      "metadata": {
        "id": "MBz3QlF4VpQ6",
        "colab_type": "code",
        "outputId": "e7d16fc2-cdc2-4f82-f50d-c563e0fe5d00",
        "colab": {
          "base_uri": "https://localhost:8080/",
          "height": 884
        }
      },
      "source": [
        "# arr = np.array(feature_space[0:600000][:,4:6])\n",
        "# print(arr[0][0].shape)\n",
        "plt.figure()\n",
        "plt.plot(range(0,128),feature_space[119999][0],label = \"I Channel\")\n",
        "plt.plot(range(0,128),feature_space[119999][1],label = \"Q Channel\")\n",
        "plt.plot(range(1,128),feature_space[119999][2],label = \"Diff-I Channel\")\n",
        "plt.plot(range(1,128),feature_space[119999][3],label = \"Diff-Q Channel\")\n",
        "plt.plot(range(0,128),feature_space[119999][4],label = \"Integral-I Channel\")\n",
        "plt.plot(range(0,128),feature_space[119999][5],label = \"Integral-Q Channel\")\n",
        "plt.plot(range(1,128),feature_space[119999][6],label = \"Combination-I Channel\")\n",
        "plt.plot(range(1,128),feature_space[119999][7],label = \"Combination-Q Channel\")\n",
        "plt.legend(loc='lower left')"
      ],
      "execution_count": 0,
      "outputs": [
        {
          "output_type": "execute_result",
          "data": {
            "text/plain": [
              "<matplotlib.legend.Legend at 0x7f3e905f0630>"
            ]
          },
          "metadata": {
            "tags": []
          },
          "execution_count": 8
        },
        {
          "output_type": "display_data",
          "data": {
            "image/png": "[encoded data removed]",
            "text/plain": [
              "<Figure size 1080x1080 with 1 Axes>"
            ]
          },
          "metadata": {
            "tags": []
          }
        }
      ]
    },
    {
      "cell_type": "markdown",
      "metadata": {
        "id": "pYqISkqOyq6T",
        "colab_type": "text"
      },
      "source": [
        "# 3. Supervised Learning Step"
      ]
    },
    {
      "cell_type": "markdown",
      "metadata": {
        "id": "9-cMYIO_ez5j",
        "colab_type": "text"
      },
      "source": [
        "**Split the data into 50% for training/validation and 50% for testing.**"
      ]
    },
    {
      "cell_type": "code",
      "metadata": {
        "id": "YZDL7kOYSiFP",
        "colab_type": "code",
        "outputId": "4d86ad9d-712d-4ef5-b6db-ada01538e63b",
        "colab": {
          "base_uri": "https://localhost:8080/",
          "height": 68
        }
      },
      "source": [
        "#Training data.\n",
        "train_data = X[::2]\n",
        "train_lbl = label[::2]\n",
        "\n",
        "# Test data.\n",
        "test_data = X[1::2]\n",
        "test_lbl = label[1::2]\n",
        "\n",
        "# Getting a part for validation :$\n",
        "validation_data = test_data[::20]\n",
        "validation_label = test_lbl[::20]\n",
        "\n",
        "train_data = np.array(train_data); test_data = np.array(test_data); train_lbl = np.array(train_lbl); test_lbl = np.array(test_lbl)# Numpyzing \n",
        "validation_data = np.array(validation_data); validation_label = np.array(validation_label)\n",
        "\n",
        "test_data_w_v = list()\n",
        "test_label_w_v = list()\n",
        "\n",
        "\n",
        "j = 0\n",
        "for i in trange(len(test_data)):\n",
        "  if i % 20 == 0:\n",
        "    j = j + 1\n",
        "    continue\n",
        "  test_data_w_v.append(test_data[j])\n",
        "  test_label_w_v.append(test_lbl[j])\n",
        "  j = j + 1\n",
        "  \n",
        "test_data = np.array(test_data_w_v)\n",
        "test_lbl = np.array(test_label_w_v)\n",
        "\n",
        "del test_data_w_v\n",
        "del test_label_w_v\n",
        "\n",
        "print(train_data.shape)\n",
        "print(test_lbl.shape)"
      ],
      "execution_count": 0,
      "outputs": [
        {
          "output_type": "stream",
          "text": [
            "100%|██████████| 600000/600000 [00:00<00:00, 1074073.61it/s]\n"
          ],
          "name": "stderr"
        },
        {
          "output_type": "stream",
          "text": [
            "(600000, 2, 128)\n",
            "(570000,)\n"
          ],
          "name": "stdout"
        }
      ]
    },
    {
      "cell_type": "markdown",
      "metadata": {
        "id": "fQGC1TEpvIW7",
        "colab_type": "text"
      },
      "source": [
        "## Building CNN"
      ]
    },
    {
      "cell_type": "code",
      "metadata": {
        "id": "8Iodgk1XWfYM",
        "colab_type": "code",
        "outputId": "85802ebb-6d55-41f1-d56c-7ec2f3ac6e99",
        "colab": {
          "base_uri": "https://localhost:8080/",
          "height": 734
        }
      },
      "source": [
        "in_shp = list(train_data.shape[1:])\n",
        "print([1]+in_shp)\n",
        "print(in_shp)\n",
        "classes = mods\n",
        "model = models.Sequential()\n",
        "\n",
        "dr = 0.5 # dropout rate (%)\n",
        "model = models.Sequential()\n",
        "\n",
        "model.add(Reshape([1]+in_shp, input_shape=in_shp))                                                  #reshape output to [1,2,128]\n",
        "model.add(ZeroPadding2D((0, 2)))\n",
        "model.add(Convolution2D(64, (1, 3),  activation=\"relu\", name=\"conv1\",data_format='channels_first'))\n",
        "model.add(Dropout(dr))                                                                              # helps prevent overfitting by setting a number of i/ps to 0\n",
        "model.add(ZeroPadding2D((0, 2)))\n",
        "model.add(Convolution2D(16, (2, 3),  activation=\"relu\", name=\"conv2\",data_format='channels_first'))\n",
        "model.add(Dropout(dr))\n",
        "model.add(Flatten())                                                                                #transition from conv to dense, must flatten\n",
        "model.add(Dense(126, activation='relu', name=\"dense1\"))                                             #output = activation(dot(input, kernel) + bias)\n",
        "model.add(Dropout(dr))\n",
        "model.add(Dense(10, name=\"dense2\" ))\n",
        "model.add(Activation('softmax'))\n",
        "model.add(Reshape([10]))\n",
        "model.summary()"
      ],
      "execution_count": 0,
      "outputs": [
        {
          "output_type": "stream",
          "text": [
            "[1, 2, 128]\n",
            "[2, 128]\n",
            "WARNING:tensorflow:From /usr/local/lib/python3.6/dist-packages/tensorflow/python/framework/op_def_library.py:263: colocate_with (from tensorflow.python.framework.ops) is deprecated and will be removed in a future version.\n",
            "Instructions for updating:\n",
            "Colocations handled automatically by placer.\n",
            "WARNING:tensorflow:From /usr/local/lib/python3.6/dist-packages/keras/backend/tensorflow_backend.py:3445: calling dropout (from tensorflow.python.ops.nn_ops) with keep_prob is deprecated and will be removed in a future version.\n",
            "Instructions for updating:\n",
            "Please use `rate` instead of `keep_prob`. Rate should be set to `rate = 1 - keep_prob`.\n",
            "_________________________________________________________________\n",
            "Layer (type)                 Output Shape              Param #   \n",
            "=================================================================\n",
            "reshape_1 (Reshape)          (None, 1, 2, 128)         0         \n",
            "_________________________________________________________________\n",
            "zero_padding2d_1 (ZeroPaddin (None, 1, 6, 128)         0         \n",
            "_________________________________________________________________\n",
            "conv1 (Conv2D)               (None, 64, 6, 126)        256       \n",
            "_________________________________________________________________\n",
            "dropout_1 (Dropout)          (None, 64, 6, 126)        0         \n",
            "_________________________________________________________________\n",
            "zero_padding2d_2 (ZeroPaddin (None, 64, 10, 126)       0         \n",
            "_________________________________________________________________\n",
            "conv2 (Conv2D)               (None, 16, 9, 124)        6160      \n",
            "_________________________________________________________________\n",
            "dropout_2 (Dropout)          (None, 16, 9, 124)        0         \n",
            "_________________________________________________________________\n",
            "flatten_1 (Flatten)          (None, 17856)             0         \n",
            "_________________________________________________________________\n",
            "dense1 (Dense)               (None, 126)               2249982   \n",
            "_________________________________________________________________\n",
            "dropout_3 (Dropout)          (None, 126)               0         \n",
            "_________________________________________________________________\n",
            "dense2 (Dense)               (None, 10)                1270      \n",
            "_________________________________________________________________\n",
            "activation_1 (Activation)    (None, 10)                0         \n",
            "_________________________________________________________________\n",
            "reshape_2 (Reshape)          (None, 10)                0         \n",
            "=================================================================\n",
            "Total params: 2,257,668\n",
            "Trainable params: 2,257,668\n",
            "Non-trainable params: 0\n",
            "_________________________________________________________________\n"
          ],
          "name": "stdout"
        }
      ]
    },
    {
      "cell_type": "markdown",
      "metadata": {
        "id": "8XQ2WXzeDrVy",
        "colab_type": "text"
      },
      "source": [
        "### Encoding labels"
      ]
    },
    {
      "cell_type": "code",
      "metadata": {
        "id": "-ja0M3pU-vl_",
        "colab_type": "code",
        "colab": {}
      },
      "source": [
        "# keras.utils.to_categorical(train_lbl, num_classes=10, dtype='float32')\n",
        "from sklearn.preprocessing import LabelEncoder\n",
        "label_encoder = LabelEncoder()\n",
        "labels_encoded = label_encoder.fit_transform(train_lbl)\n",
        "valid_labels_encoded = label_encoder.fit_transform(validation_label)\n",
        "test_lbl_encoded = label_encoder.fit_transform(test_lbl)"
      ],
      "execution_count": 0,
      "outputs": []
    },
    {
      "cell_type": "markdown",
      "metadata": {
        "id": "fNWYXiuPDxD2",
        "colab_type": "text"
      },
      "source": [
        "### FItting model\n"
      ]
    },
    {
      "cell_type": "code",
      "metadata": {
        "id": "Qj8avMkaQx2O",
        "colab_type": "code",
        "outputId": "1eb8dbe8-be0d-4e67-cbde-783ed709bdd4",
        "colab": {
          "base_uri": "https://localhost:8080/",
          "height": 1006
        }
      },
      "source": [
        "model.compile(optimizer='adam', loss='sparse_categorical_crossentropy',metrics=['accuracy'])\n",
        "model.fit(train_data, labels_encoded, epochs=100, batch_size=1024, verbose =2, validation_data=(validation_data, valid_labels_encoded), callbacks =[keras.callbacks.EarlyStopping(monitor='val_loss', patience=5, verbose=0, mode='auto')])"
      ],
      "execution_count": 0,
      "outputs": [
        {
          "output_type": "stream",
          "text": [
            "WARNING:tensorflow:From /usr/local/lib/python3.6/dist-packages/tensorflow/python/ops/math_ops.py:3066: to_int32 (from tensorflow.python.ops.math_ops) is deprecated and will be removed in a future version.\n",
            "Instructions for updating:\n",
            "Use tf.cast instead.\n",
            "Train on 600000 samples, validate on 30000 samples\n",
            "Epoch 1/100\n",
            " - 46s - loss: 1.9182 - acc: 0.2410 - val_loss: 1.6001 - val_acc: 0.3598\n",
            "Epoch 2/100\n",
            " - 42s - loss: 1.5993 - acc: 0.3523 - val_loss: 1.3965 - val_acc: 0.4410\n",
            "Epoch 3/100\n",
            " - 42s - loss: 1.5274 - acc: 0.3770 - val_loss: 1.3740 - val_acc: 0.4276\n",
            "Epoch 4/100\n",
            " - 43s - loss: 1.5057 - acc: 0.3854 - val_loss: 1.3458 - val_acc: 0.4395\n",
            "Epoch 5/100\n",
            " - 43s - loss: 1.4895 - acc: 0.3908 - val_loss: 1.3813 - val_acc: 0.4108\n",
            "Epoch 6/100\n",
            " - 43s - loss: 1.4716 - acc: 0.3979 - val_loss: 1.3279 - val_acc: 0.4407\n",
            "Epoch 7/100\n",
            " - 44s - loss: 1.4539 - acc: 0.4044 - val_loss: 1.2880 - val_acc: 0.4629\n",
            "Epoch 8/100\n",
            " - 44s - loss: 1.4349 - acc: 0.4096 - val_loss: 1.2874 - val_acc: 0.4606\n",
            "Epoch 9/100\n",
            " - 44s - loss: 1.4239 - acc: 0.4146 - val_loss: 1.2841 - val_acc: 0.4613\n",
            "Epoch 10/100\n",
            " - 44s - loss: 1.4173 - acc: 0.4163 - val_loss: 1.2791 - val_acc: 0.4642\n",
            "Epoch 11/100\n",
            " - 44s - loss: 1.4120 - acc: 0.4181 - val_loss: 1.2556 - val_acc: 0.4777\n",
            "Epoch 12/100\n",
            " - 44s - loss: 1.4056 - acc: 0.4213 - val_loss: 1.2465 - val_acc: 0.4707\n",
            "Epoch 13/100\n",
            " - 44s - loss: 1.3960 - acc: 0.4241 - val_loss: 1.2504 - val_acc: 0.4758\n",
            "Epoch 14/100\n",
            " - 44s - loss: 1.3916 - acc: 0.4261 - val_loss: 1.2594 - val_acc: 0.4712\n",
            "Epoch 15/100\n",
            " - 44s - loss: 1.3867 - acc: 0.4272 - val_loss: 1.2393 - val_acc: 0.4816\n",
            "Epoch 16/100\n",
            " - 44s - loss: 1.3839 - acc: 0.4294 - val_loss: 1.2389 - val_acc: 0.4822\n",
            "Epoch 17/100\n",
            " - 44s - loss: 1.3795 - acc: 0.4300 - val_loss: 1.2427 - val_acc: 0.4813\n",
            "Epoch 18/100\n",
            " - 44s - loss: 1.3774 - acc: 0.4298 - val_loss: 1.2345 - val_acc: 0.4773\n",
            "Epoch 19/100\n",
            " - 44s - loss: 1.3753 - acc: 0.4315 - val_loss: 1.2402 - val_acc: 0.4810\n",
            "Epoch 20/100\n",
            " - 44s - loss: 1.3746 - acc: 0.4324 - val_loss: 1.2323 - val_acc: 0.4850\n",
            "Epoch 21/100\n",
            " - 44s - loss: 1.3714 - acc: 0.4330 - val_loss: 1.2195 - val_acc: 0.4853\n",
            "Epoch 22/100\n",
            " - 44s - loss: 1.3694 - acc: 0.4333 - val_loss: 1.2629 - val_acc: 0.4693\n",
            "Epoch 23/100\n",
            " - 44s - loss: 1.3686 - acc: 0.4342 - val_loss: 1.2329 - val_acc: 0.4827\n",
            "Epoch 24/100\n",
            " - 44s - loss: 1.3651 - acc: 0.4351 - val_loss: 1.2368 - val_acc: 0.4772\n",
            "Epoch 25/100\n",
            " - 44s - loss: 1.3633 - acc: 0.4348 - val_loss: 1.2353 - val_acc: 0.4803\n",
            "Epoch 26/100\n",
            " - 44s - loss: 1.3600 - acc: 0.4367 - val_loss: 1.2268 - val_acc: 0.4846\n"
          ],
          "name": "stdout"
        },
        {
          "output_type": "execute_result",
          "data": {
            "text/plain": [
              "<keras.callbacks.History at 0x7f3e8ceebb38>"
            ]
          },
          "metadata": {
            "tags": []
          },
          "execution_count": 12
        }
      ]
    },
    {
      "cell_type": "markdown",
      "metadata": {
        "id": "UObLB61ZD-Br",
        "colab_type": "text"
      },
      "source": [
        "### Evaluating on test set"
      ]
    },
    {
      "cell_type": "code",
      "metadata": {
        "id": "Tb-qx51295Yv",
        "colab_type": "code",
        "outputId": "7ace8614-5084-41dc-9003-a3825bccf5b5",
        "colab": {
          "base_uri": "https://localhost:8080/",
          "height": 238
        }
      },
      "source": [
        "from sklearn.metrics import confusion_matrix\n",
        "rounded_pred = model.predict_classes(test_data,batch_size = 10)\n",
        "print(rounded_pred)\n",
        "cm = confusion_matrix(test_lbl_encoded, rounded_pred)\n",
        "print(cm)\n",
        "score = model.evaluate(test_data, test_lbl_encoded, verbose=0, batch_size=10)\n",
        "print('loss','accuracy:')\n",
        "print(score)"
      ],
      "execution_count": 0,
      "outputs": [
        {
          "output_type": "stream",
          "text": [
            "[3 0 0 ... 1 1 1]\n",
            "[[21019  1416  2541 12415  1781    24   766   681 15816   541]\n",
            " [ 4571 41284  1457  2592  1291     9    10     0  1918  3868]\n",
            " [ 8507  1479 37780  5147  1057   500    49    13  1832   636]\n",
            " [ 8817  1452  2314 39512  2360    30   101    56  1786   572]\n",
            " [ 6693  2141  1920  6528 35522    26    56    44  1647  2423]\n",
            " [ 6046  1085  9597  3949   899 33622    51    11  1323   417]\n",
            " [11772   800  1783  6340  1144   181  4267 27510  2861   342]\n",
            " [ 8863   515  1269  5182   911   192  3750 34356  1699   263]\n",
            " [18000  1395  2612 12787  1674    28   701   666 18565   572]\n",
            " [ 4809 30167  1510  2952  4574    11    15     4  1896 11062]]\n",
            "loss accuracy:\n",
            "[1.2271195331455895, 0.4859456142857671]\n"
          ],
          "name": "stdout"
        }
      ]
    },
    {
      "cell_type": "markdown",
      "metadata": {
        "id": "rMzVCmFWALDd",
        "colab_type": "text"
      },
      "source": [
        "## ANN and Tuning"
      ]
    },
    {
      "cell_type": "code",
      "metadata": {
        "id": "6eYsU4mE_qIo",
        "colab_type": "code",
        "outputId": "90b6a2f2-24de-49f8-82f2-d47d1ed00f88",
        "colab": {
          "base_uri": "https://localhost:8080/",
          "height": 7330
        }
      },
      "source": [
        "def tuneItNowNow(layers,neurons):\n",
        "  print('\\nLayers = ', layers, \"Neurons = \",neurons)\n",
        "  print(\"----------------------------------------\")\n",
        "  in_shp = list(train_data.shape[1:])\n",
        "  model = models.Sequential()\n",
        "  model.add(Reshape([1]+in_shp, input_shape=in_shp))\n",
        "  for i in range(layers):\n",
        "    model.add(Dense(neurons,activation='relu'))  \n",
        "  model.add(Flatten())\n",
        "  model.add(Dense(10))\n",
        "  model.add(Activation('softmax'))\n",
        "  model.compile(optimizer='adam', loss='sparse_categorical_crossentropy',metrics=['accuracy'])\n",
        "  model.fit(train_data, labels_encoded, epochs=5, batch_size=1024, verbose =2, validation_data=(validation_data, valid_labels_encoded), callbacks =[keras.callbacks.EarlyStopping(monitor='val_loss', patience=5, verbose=0, mode='auto')])\n",
        "  #score = model.evaluate(test_data, test_lbl_encoded, verbose=0, batch_size=10)\n",
        "  #print('loss','accuracy:')\n",
        "  #print(score)\n",
        "\n",
        "i = [i for i in range(3,10)]\n",
        "j = [2**i for i in range(9,13)]\n",
        "for k in tqdm(i):\n",
        "  for c in tqdm(j):\n",
        "    tuneItNowNow(k,c)"
      ],
      "execution_count": 0,
      "outputs": [
        {
          "output_type": "stream",
          "text": [
            "  0%|          | 0/7 [00:00<?, ?it/s]\n",
            "  0%|          | 0/4 [00:00<?, ?it/s]\u001b[A"
          ],
          "name": "stderr"
        },
        {
          "output_type": "stream",
          "text": [
            "\n",
            "Layers =  3 Neurons =  512\n",
            "----------------------------------------\n",
            "WARNING:tensorflow:From /usr/local/lib/python3.6/dist-packages/tensorflow/python/framework/op_def_library.py:263: colocate_with (from tensorflow.python.framework.ops) is deprecated and will be removed in a future version.\n",
            "Instructions for updating:\n",
            "Colocations handled automatically by placer.\n",
            "WARNING:tensorflow:From /usr/local/lib/python3.6/dist-packages/tensorflow/python/ops/math_ops.py:3066: to_int32 (from tensorflow.python.ops.math_ops) is deprecated and will be removed in a future version.\n",
            "Instructions for updating:\n",
            "Use tf.cast instead.\n",
            "Train on 600000 samples, validate on 30000 samples\n",
            "Epoch 1/5\n",
            " - 7s - loss: 1.6696 - acc: 0.3327 - val_loss: 1.4950 - val_acc: 0.3945\n",
            "Epoch 2/5\n",
            " - 3s - loss: 1.4706 - acc: 0.4010 - val_loss: 1.4492 - val_acc: 0.4106\n",
            "Epoch 3/5\n",
            " - 3s - loss: 1.4364 - acc: 0.4146 - val_loss: 1.4273 - val_acc: 0.4179\n",
            "Epoch 4/5\n",
            " - 3s - loss: 1.4175 - acc: 0.4230 - val_loss: 1.4214 - val_acc: 0.4185\n",
            "Epoch 5/5\n",
            " - 3s - loss: 1.4043 - acc: 0.4278 - val_loss: 1.4109 - val_acc: 0.4266\n"
          ],
          "name": "stdout"
        },
        {
          "output_type": "stream",
          "text": [
            "\n",
            " 25%|██▌       | 1/4 [00:20<01:02, 20.73s/it]\u001b[A"
          ],
          "name": "stderr"
        },
        {
          "output_type": "stream",
          "text": [
            "\n",
            "Layers =  3 Neurons =  1024\n",
            "----------------------------------------\n",
            "Train on 600000 samples, validate on 30000 samples\n",
            "Epoch 1/5\n",
            " - 8s - loss: 1.6090 - acc: 0.3502 - val_loss: 1.4768 - val_acc: 0.3973\n",
            "Epoch 2/5\n",
            " - 7s - loss: 1.4395 - acc: 0.4116 - val_loss: 1.4249 - val_acc: 0.4170\n",
            "Epoch 3/5\n",
            " - 7s - loss: 1.4057 - acc: 0.4249 - val_loss: 1.3968 - val_acc: 0.4318\n",
            "Epoch 4/5\n",
            " - 7s - loss: 1.3431 - acc: 0.4509 - val_loss: 1.3302 - val_acc: 0.4515\n",
            "Epoch 5/5\n",
            " - 8s - loss: 1.2913 - acc: 0.4700 - val_loss: 1.2869 - val_acc: 0.4703\n"
          ],
          "name": "stdout"
        },
        {
          "output_type": "stream",
          "text": [
            "\n",
            " 50%|█████     | 2/4 [00:58<00:51, 25.77s/it]\u001b[A"
          ],
          "name": "stderr"
        },
        {
          "output_type": "stream",
          "text": [
            "\n",
            "Layers =  3 Neurons =  2048\n",
            "----------------------------------------\n",
            "Train on 600000 samples, validate on 30000 samples\n",
            "Epoch 1/5\n",
            " - 25s - loss: 1.5708 - acc: 0.3626 - val_loss: 1.4504 - val_acc: 0.4083\n",
            "Epoch 2/5\n",
            " - 24s - loss: 1.4157 - acc: 0.4204 - val_loss: 1.3581 - val_acc: 0.4407\n",
            "Epoch 3/5\n",
            " - 24s - loss: 1.3200 - acc: 0.4587 - val_loss: 1.3035 - val_acc: 0.4626\n",
            "Epoch 4/5\n",
            " - 24s - loss: 1.2643 - acc: 0.4783 - val_loss: 1.2654 - val_acc: 0.4692\n",
            "Epoch 5/5\n",
            " - 24s - loss: 1.2209 - acc: 0.4931 - val_loss: 1.2412 - val_acc: 0.4856\n"
          ],
          "name": "stdout"
        },
        {
          "output_type": "stream",
          "text": [
            "\n",
            " 75%|███████▌  | 3/4 [03:00<00:54, 54.67s/it]\u001b[A"
          ],
          "name": "stderr"
        },
        {
          "output_type": "stream",
          "text": [
            "\n",
            "Layers =  3 Neurons =  4096\n",
            "----------------------------------------\n",
            "Train on 600000 samples, validate on 30000 samples\n",
            "Epoch 1/5\n",
            " - 77s - loss: 1.5609 - acc: 0.3656 - val_loss: 1.4503 - val_acc: 0.4043\n",
            "Epoch 2/5\n",
            " - 75s - loss: 1.3753 - acc: 0.4366 - val_loss: 1.4000 - val_acc: 0.4322\n",
            "Epoch 3/5\n",
            " - 75s - loss: 1.2779 - acc: 0.4736 - val_loss: 1.2849 - val_acc: 0.4639\n",
            "Epoch 4/5\n",
            " - 75s - loss: 1.2138 - acc: 0.4959 - val_loss: 1.3086 - val_acc: 0.4615\n",
            "Epoch 5/5\n",
            " - 75s - loss: 1.1639 - acc: 0.5151 - val_loss: 1.1939 - val_acc: 0.5020\n"
          ],
          "name": "stdout"
        },
        {
          "output_type": "stream",
          "text": [
            "\n",
            "100%|██████████| 4/4 [09:18<00:00, 151.73s/it]\u001b[A\n",
            " 14%|█▍        | 1/7 [09:18<55:51, 558.60s/it]\n",
            "  0%|          | 0/4 [00:00<?, ?it/s]\u001b[A"
          ],
          "name": "stderr"
        },
        {
          "output_type": "stream",
          "text": [
            "\n",
            "Layers =  4 Neurons =  512\n",
            "----------------------------------------\n",
            "Train on 600000 samples, validate on 30000 samples\n",
            "Epoch 1/5\n",
            " - 5s - loss: 1.6303 - acc: 0.3402 - val_loss: 1.4883 - val_acc: 0.3874\n",
            "Epoch 2/5\n",
            " - 4s - loss: 1.4474 - acc: 0.4083 - val_loss: 1.4283 - val_acc: 0.4222\n",
            "Epoch 3/5\n",
            " - 4s - loss: 1.4200 - acc: 0.4209 - val_loss: 1.4378 - val_acc: 0.4059\n",
            "Epoch 4/5\n",
            " - 4s - loss: 1.3936 - acc: 0.4321 - val_loss: 1.4193 - val_acc: 0.4199\n",
            "Epoch 5/5\n",
            " - 4s - loss: 1.3403 - acc: 0.4527 - val_loss: 1.3256 - val_acc: 0.4573\n"
          ],
          "name": "stdout"
        },
        {
          "output_type": "stream",
          "text": [
            "\n",
            " 25%|██▌       | 1/4 [00:22<01:07, 22.39s/it]\u001b[A"
          ],
          "name": "stderr"
        },
        {
          "output_type": "stream",
          "text": [
            "\n",
            "Layers =  4 Neurons =  1024\n",
            "----------------------------------------\n",
            "Train on 600000 samples, validate on 30000 samples\n",
            "Epoch 1/5\n",
            " - 11s - loss: 1.5797 - acc: 0.3579 - val_loss: 1.4498 - val_acc: 0.4103\n",
            "Epoch 2/5\n",
            " - 10s - loss: 1.4179 - acc: 0.4199 - val_loss: 1.3876 - val_acc: 0.4288\n",
            "Epoch 3/5\n",
            " - 10s - loss: 1.3429 - acc: 0.4492 - val_loss: 1.3668 - val_acc: 0.4425\n",
            "Epoch 4/5\n",
            " - 10s - loss: 1.2806 - acc: 0.4727 - val_loss: 1.2837 - val_acc: 0.4677\n",
            "Epoch 5/5\n",
            " - 10s - loss: 1.2558 - acc: 0.4810 - val_loss: 1.2715 - val_acc: 0.4741\n"
          ],
          "name": "stdout"
        },
        {
          "output_type": "stream",
          "text": [
            "\n",
            " 50%|█████     | 2/4 [01:15<01:03, 31.65s/it]\u001b[A"
          ],
          "name": "stderr"
        },
        {
          "output_type": "stream",
          "text": [
            "\n",
            "Layers =  4 Neurons =  2048\n",
            "----------------------------------------\n",
            "Train on 600000 samples, validate on 30000 samples\n",
            "Epoch 1/5\n",
            " - 36s - loss: 1.5606 - acc: 0.3646 - val_loss: 1.4187 - val_acc: 0.4235\n",
            "Epoch 2/5\n",
            " - 36s - loss: 1.3882 - acc: 0.4311 - val_loss: 1.3347 - val_acc: 0.4511\n",
            "Epoch 3/5\n",
            " - 35s - loss: 1.2968 - acc: 0.4668 - val_loss: 1.2906 - val_acc: 0.4668\n",
            "Epoch 4/5\n",
            " - 35s - loss: 1.2500 - acc: 0.4830 - val_loss: 1.2580 - val_acc: 0.4793\n",
            "Epoch 5/5\n",
            " - 34s - loss: 1.2190 - acc: 0.4932 - val_loss: 1.2687 - val_acc: 0.4730\n"
          ],
          "name": "stdout"
        },
        {
          "output_type": "stream",
          "text": [
            "\n",
            " 75%|███████▌  | 3/4 [04:12<01:15, 75.20s/it]\u001b[A"
          ],
          "name": "stderr"
        },
        {
          "output_type": "stream",
          "text": [
            "\n",
            "Layers =  4 Neurons =  4096\n",
            "----------------------------------------\n",
            "Train on 600000 samples, validate on 30000 samples\n",
            "Epoch 1/5\n",
            " - 112s - loss: 1.5593 - acc: 0.3655 - val_loss: 1.4275 - val_acc: 0.4123\n",
            "Epoch 2/5\n",
            " - 109s - loss: 1.3585 - acc: 0.4438 - val_loss: 1.3379 - val_acc: 0.4401\n",
            "Epoch 3/5\n",
            " - 109s - loss: 1.2743 - acc: 0.4747 - val_loss: 1.2704 - val_acc: 0.4770\n",
            "Epoch 4/5\n",
            " - 109s - loss: 1.2166 - acc: 0.4954 - val_loss: 1.2316 - val_acc: 0.4911\n",
            "Epoch 5/5\n",
            " - 109s - loss: 1.1564 - acc: 0.5183 - val_loss: 1.1877 - val_acc: 0.5043\n"
          ],
          "name": "stdout"
        },
        {
          "output_type": "stream",
          "text": [
            "\n",
            "100%|██████████| 4/4 [13:21<00:00, 217.20s/it]\u001b[A\n",
            " 29%|██▊       | 2/7 [22:39<52:36, 631.33s/it]\n",
            "  0%|          | 0/4 [00:00<?, ?it/s]\u001b[A"
          ],
          "name": "stderr"
        },
        {
          "output_type": "stream",
          "text": [
            "\n",
            "Layers =  5 Neurons =  512\n",
            "----------------------------------------\n",
            "Train on 600000 samples, validate on 30000 samples\n",
            "Epoch 1/5\n",
            " - 6s - loss: 1.6238 - acc: 0.3408 - val_loss: 1.4479 - val_acc: 0.4123\n",
            "Epoch 2/5\n",
            " - 5s - loss: 1.4244 - acc: 0.4168 - val_loss: 1.4566 - val_acc: 0.3978\n",
            "Epoch 3/5\n",
            " - 5s - loss: 1.3484 - acc: 0.4481 - val_loss: 1.3229 - val_acc: 0.4595\n",
            "Epoch 4/5\n",
            " - 5s - loss: 1.3088 - acc: 0.4630 - val_loss: 1.2923 - val_acc: 0.4700\n",
            "Epoch 5/5\n",
            " - 5s - loss: 1.2813 - acc: 0.4721 - val_loss: 1.2878 - val_acc: 0.4699\n"
          ],
          "name": "stdout"
        },
        {
          "output_type": "stream",
          "text": [
            "\n",
            " 25%|██▌       | 1/4 [00:26<01:19, 26.50s/it]\u001b[A"
          ],
          "name": "stderr"
        },
        {
          "output_type": "stream",
          "text": [
            "\n",
            "Layers =  5 Neurons =  1024\n",
            "----------------------------------------\n",
            "Train on 600000 samples, validate on 30000 samples\n",
            "Epoch 1/5\n",
            " - 14s - loss: 1.5714 - acc: 0.3612 - val_loss: 1.4222 - val_acc: 0.4217\n",
            "Epoch 2/5\n",
            " - 13s - loss: 1.3811 - acc: 0.4339 - val_loss: 1.3309 - val_acc: 0.4548\n",
            "Epoch 3/5\n",
            " - 13s - loss: 1.2997 - acc: 0.4663 - val_loss: 1.2957 - val_acc: 0.4687\n",
            "Epoch 4/5\n",
            " - 13s - loss: 1.2658 - acc: 0.4776 - val_loss: 1.2975 - val_acc: 0.4581\n",
            "Epoch 5/5\n",
            " - 13s - loss: 1.2432 - acc: 0.4853 - val_loss: 1.2781 - val_acc: 0.4760\n"
          ],
          "name": "stdout"
        },
        {
          "output_type": "stream",
          "text": [
            "\n",
            " 50%|█████     | 2/4 [01:33<01:17, 38.79s/it]\u001b[A"
          ],
          "name": "stderr"
        },
        {
          "output_type": "stream",
          "text": [
            "\n",
            "Layers =  5 Neurons =  2048\n",
            "----------------------------------------\n",
            "Train on 600000 samples, validate on 30000 samples\n",
            "Epoch 1/5\n",
            " - 46s - loss: 1.5846 - acc: 0.3545 - val_loss: 1.4086 - val_acc: 0.4269\n",
            "Epoch 2/5\n",
            " - 44s - loss: 1.3577 - acc: 0.4430 - val_loss: 1.2935 - val_acc: 0.4642\n",
            "Epoch 3/5\n",
            " - 44s - loss: 1.2832 - acc: 0.4719 - val_loss: 1.2828 - val_acc: 0.4713\n",
            "Epoch 4/5\n",
            " - 44s - loss: 1.2483 - acc: 0.4836 - val_loss: 1.2638 - val_acc: 0.4770\n",
            "Epoch 5/5\n",
            " - 44s - loss: 1.2117 - acc: 0.4956 - val_loss: 1.2372 - val_acc: 0.4875\n"
          ],
          "name": "stdout"
        },
        {
          "output_type": "stream",
          "text": [
            "\n",
            " 75%|███████▌  | 3/4 [05:17<01:34, 94.25s/it]\u001b[A"
          ],
          "name": "stderr"
        },
        {
          "output_type": "stream",
          "text": [
            "\n",
            "Layers =  5 Neurons =  4096\n",
            "----------------------------------------\n",
            "Train on 600000 samples, validate on 30000 samples\n",
            "Epoch 1/5\n",
            " - 147s - loss: 1.5549 - acc: 0.3649 - val_loss: 1.4312 - val_acc: 0.4157\n",
            "Epoch 2/5\n",
            " - 143s - loss: 1.3651 - acc: 0.4404 - val_loss: 1.3169 - val_acc: 0.4552\n",
            "Epoch 3/5\n",
            " - 143s - loss: 1.2794 - acc: 0.4723 - val_loss: 1.2644 - val_acc: 0.4769\n",
            "Epoch 4/5\n",
            " - 142s - loss: 1.2267 - acc: 0.4904 - val_loss: 1.2393 - val_acc: 0.4823\n",
            "Epoch 5/5\n",
            " - 143s - loss: 1.1677 - acc: 0.5129 - val_loss: 1.2274 - val_acc: 0.4868\n"
          ],
          "name": "stdout"
        },
        {
          "output_type": "stream",
          "text": [
            "\n",
            "100%|██████████| 4/4 [17:15<00:00, 281.45s/it]\u001b[A\n",
            " 43%|████▎     | 3/7 [39:55<50:10, 752.69s/it]\n",
            "  0%|          | 0/4 [00:00<?, ?it/s]\u001b[A"
          ],
          "name": "stderr"
        },
        {
          "output_type": "stream",
          "text": [
            "\n",
            "Layers =  6 Neurons =  512\n",
            "----------------------------------------\n",
            "Train on 600000 samples, validate on 30000 samples\n",
            "Epoch 1/5\n",
            " - 7s - loss: 1.6135 - acc: 0.3436 - val_loss: 1.4650 - val_acc: 0.4069\n",
            "Epoch 2/5\n",
            " - 6s - loss: 1.4098 - acc: 0.4217 - val_loss: 1.3528 - val_acc: 0.4485\n",
            "Epoch 3/5\n",
            " - 6s - loss: 1.3303 - acc: 0.4548 - val_loss: 1.3174 - val_acc: 0.4559\n",
            "Epoch 4/5\n",
            " - 6s - loss: 1.2968 - acc: 0.4666 - val_loss: 1.3017 - val_acc: 0.4555\n",
            "Epoch 5/5\n",
            " - 6s - loss: 1.2777 - acc: 0.4734 - val_loss: 1.2880 - val_acc: 0.4689\n"
          ],
          "name": "stdout"
        },
        {
          "output_type": "stream",
          "text": [
            "\n",
            " 25%|██▌       | 1/4 [00:31<01:34, 31.39s/it]\u001b[A"
          ],
          "name": "stderr"
        },
        {
          "output_type": "stream",
          "text": [
            "\n",
            "Layers =  6 Neurons =  1024\n",
            "----------------------------------------\n",
            "Train on 600000 samples, validate on 30000 samples\n",
            "Epoch 1/5\n",
            " - 18s - loss: 1.5817 - acc: 0.3557 - val_loss: 1.4393 - val_acc: 0.3989\n",
            "Epoch 2/5\n",
            " - 16s - loss: 1.3654 - acc: 0.4409 - val_loss: 1.3033 - val_acc: 0.4652\n",
            "Epoch 3/5\n",
            " - 16s - loss: 1.2962 - acc: 0.4666 - val_loss: 1.2788 - val_acc: 0.4752\n",
            "Epoch 4/5\n",
            " - 16s - loss: 1.2669 - acc: 0.4775 - val_loss: 1.2747 - val_acc: 0.4746\n",
            "Epoch 5/5\n",
            " - 16s - loss: 1.2441 - acc: 0.4841 - val_loss: 1.2659 - val_acc: 0.4729\n"
          ],
          "name": "stdout"
        },
        {
          "output_type": "stream",
          "text": [
            "\n",
            " 50%|█████     | 2/4 [01:53<01:33, 46.65s/it]\u001b[A"
          ],
          "name": "stderr"
        },
        {
          "output_type": "stream",
          "text": [
            "\n",
            "Layers =  6 Neurons =  2048\n",
            "----------------------------------------\n",
            "Train on 600000 samples, validate on 30000 samples\n",
            "Epoch 1/5\n",
            " - 57s - loss: 1.5723 - acc: 0.3594 - val_loss: 1.4004 - val_acc: 0.4244\n",
            "Epoch 2/5\n",
            " - 55s - loss: 1.3554 - acc: 0.4447 - val_loss: 1.3105 - val_acc: 0.4581\n",
            "Epoch 3/5\n",
            " - 55s - loss: 1.2834 - acc: 0.4706 - val_loss: 1.2836 - val_acc: 0.4716\n",
            "Epoch 4/5\n",
            " - 55s - loss: 1.2537 - acc: 0.4812 - val_loss: 1.2724 - val_acc: 0.4736\n",
            "Epoch 5/5\n",
            " - 55s - loss: 1.2210 - acc: 0.4923 - val_loss: 1.2424 - val_acc: 0.4837\n"
          ],
          "name": "stdout"
        },
        {
          "output_type": "stream",
          "text": [
            "\n",
            " 75%|███████▌  | 3/4 [06:29<01:55, 115.45s/it]\u001b[A"
          ],
          "name": "stderr"
        },
        {
          "output_type": "stream",
          "text": [
            "\n",
            "Layers =  6 Neurons =  4096\n",
            "----------------------------------------\n",
            "Train on 600000 samples, validate on 30000 samples\n",
            "Epoch 1/5\n",
            " - 182s - loss: 1.5660 - acc: 0.3600 - val_loss: 1.4376 - val_acc: 0.4166\n",
            "Epoch 2/5\n",
            " - 177s - loss: 1.4080 - acc: 0.4240 - val_loss: 1.3976 - val_acc: 0.4206\n",
            "Epoch 3/5\n",
            " - 177s - loss: 1.3107 - acc: 0.4610 - val_loss: 1.3184 - val_acc: 0.4607\n",
            "Epoch 4/5\n",
            " - 176s - loss: 1.2511 - acc: 0.4823 - val_loss: 1.2770 - val_acc: 0.4756\n",
            "Epoch 5/5\n",
            " - 175s - loss: 1.1901 - acc: 0.5047 - val_loss: 1.2355 - val_acc: 0.4914\n"
          ],
          "name": "stdout"
        },
        {
          "output_type": "stream",
          "text": [
            "\n",
            "100%|██████████| 4/4 [21:17<00:00, 347.10s/it]\u001b[A\n",
            " 57%|█████▋    | 4/7 [1:01:12<45:30, 910.06s/it]\n",
            "  0%|          | 0/4 [00:00<?, ?it/s]\u001b[A"
          ],
          "name": "stderr"
        },
        {
          "output_type": "stream",
          "text": [
            "\n",
            "Layers =  7 Neurons =  512\n",
            "----------------------------------------\n",
            "Train on 600000 samples, validate on 30000 samples\n",
            "Epoch 1/5\n",
            " - 9s - loss: 1.6238 - acc: 0.3393 - val_loss: 1.4567 - val_acc: 0.4100\n",
            "Epoch 2/5\n",
            " - 7s - loss: 1.4287 - acc: 0.4147 - val_loss: 1.4016 - val_acc: 0.4334\n",
            "Epoch 3/5\n",
            " - 7s - loss: 1.3655 - acc: 0.4407 - val_loss: 1.3467 - val_acc: 0.4505\n",
            "Epoch 4/5\n",
            " - 7s - loss: 1.3052 - acc: 0.4629 - val_loss: 1.3260 - val_acc: 0.4560\n",
            "Epoch 5/5\n",
            " - 7s - loss: 1.2810 - acc: 0.4716 - val_loss: 1.2892 - val_acc: 0.4747\n"
          ],
          "name": "stdout"
        },
        {
          "output_type": "stream",
          "text": [
            "\n",
            " 25%|██▌       | 1/4 [00:36<01:48, 36.26s/it]\u001b[A"
          ],
          "name": "stderr"
        },
        {
          "output_type": "stream",
          "text": [
            "\n",
            "Layers =  7 Neurons =  1024\n",
            "----------------------------------------\n",
            "Train on 600000 samples, validate on 30000 samples\n",
            "Epoch 1/5\n",
            " - 21s - loss: 1.5956 - acc: 0.3497 - val_loss: 1.5261 - val_acc: 0.3670\n",
            "Epoch 2/5\n",
            " - 19s - loss: 1.3595 - acc: 0.4426 - val_loss: 1.3117 - val_acc: 0.4592\n",
            "Epoch 3/5\n",
            " - 19s - loss: 1.2950 - acc: 0.4666 - val_loss: 1.2921 - val_acc: 0.4685\n",
            "Epoch 4/5\n",
            " - 19s - loss: 1.2659 - acc: 0.4767 - val_loss: 1.2707 - val_acc: 0.4770\n",
            "Epoch 5/5\n",
            " - 18s - loss: 1.2417 - acc: 0.4856 - val_loss: 1.3350 - val_acc: 0.4533\n"
          ],
          "name": "stdout"
        },
        {
          "output_type": "stream",
          "text": [
            "\n",
            " 50%|█████     | 2/4 [02:12<01:48, 54.11s/it]\u001b[A"
          ],
          "name": "stderr"
        },
        {
          "output_type": "stream",
          "text": [
            "\n",
            "Layers =  7 Neurons =  2048\n",
            "----------------------------------------\n",
            "Train on 600000 samples, validate on 30000 samples\n",
            "Epoch 1/5\n",
            " - 68s - loss: 1.6266 - acc: 0.3394 - val_loss: 1.4470 - val_acc: 0.4064\n",
            "Epoch 2/5\n",
            " - 64s - loss: 1.3951 - acc: 0.4282 - val_loss: 1.3536 - val_acc: 0.4447\n",
            "Epoch 3/5\n",
            " - 64s - loss: 1.3029 - acc: 0.4651 - val_loss: 1.2862 - val_acc: 0.4689\n",
            "Epoch 4/5\n",
            " - 64s - loss: 1.2679 - acc: 0.4761 - val_loss: 1.3154 - val_acc: 0.4609\n",
            "Epoch 5/5\n",
            " - 64s - loss: 1.2403 - acc: 0.4852 - val_loss: 1.2626 - val_acc: 0.4782\n"
          ],
          "name": "stdout"
        },
        {
          "output_type": "stream",
          "text": [
            "\n",
            " 75%|███████▌  | 3/4 [07:37<02:15, 135.50s/it]\u001b[A"
          ],
          "name": "stderr"
        },
        {
          "output_type": "stream",
          "text": [
            "\n",
            "Layers =  7 Neurons =  4096\n",
            "----------------------------------------\n",
            "Train on 600000 samples, validate on 30000 samples\n",
            "Epoch 1/5\n",
            " - 217s - loss: 1.6116 - acc: 0.3442 - val_loss: 1.4432 - val_acc: 0.4130\n",
            "Epoch 2/5\n",
            " - 211s - loss: 1.4305 - acc: 0.4145 - val_loss: 1.4107 - val_acc: 0.4258\n",
            "Epoch 3/5\n",
            " - 210s - loss: 1.3588 - acc: 0.4444 - val_loss: 1.3013 - val_acc: 0.4631\n",
            "Epoch 4/5\n",
            " - 209s - loss: 1.2822 - acc: 0.4705 - val_loss: 1.2850 - val_acc: 0.4682\n",
            "Epoch 5/5\n",
            " - 208s - loss: 1.2282 - acc: 0.4902 - val_loss: 1.2189 - val_acc: 0.4925\n"
          ],
          "name": "stdout"
        },
        {
          "output_type": "stream",
          "text": [
            "\n",
            "100%|██████████| 4/4 [25:12<00:00, 411.50s/it]\u001b[A\n",
            " 71%|███████▏  | 5/7 [1:26:25<36:21, 1090.93s/it]\n",
            "  0%|          | 0/4 [00:00<?, ?it/s]\u001b[A"
          ],
          "name": "stderr"
        },
        {
          "output_type": "stream",
          "text": [
            "\n",
            "Layers =  8 Neurons =  512\n",
            "----------------------------------------\n",
            "Train on 600000 samples, validate on 30000 samples\n",
            "Epoch 1/5\n",
            " - 10s - loss: 1.6446 - acc: 0.3316 - val_loss: 1.4819 - val_acc: 0.3948\n",
            "Epoch 2/5\n",
            " - 8s - loss: 1.4132 - acc: 0.4208 - val_loss: 1.3831 - val_acc: 0.4336\n",
            "Epoch 3/5\n",
            " - 8s - loss: 1.3337 - acc: 0.4529 - val_loss: 1.3132 - val_acc: 0.4618\n",
            "Epoch 4/5\n",
            " - 8s - loss: 1.2990 - acc: 0.4652 - val_loss: 1.2950 - val_acc: 0.4633\n",
            "Epoch 5/5\n",
            " - 8s - loss: 1.2751 - acc: 0.4743 - val_loss: 1.2821 - val_acc: 0.4734\n"
          ],
          "name": "stdout"
        },
        {
          "output_type": "stream",
          "text": [
            "\n",
            " 25%|██▌       | 1/4 [00:41<02:05, 41.67s/it]\u001b[A"
          ],
          "name": "stderr"
        },
        {
          "output_type": "stream",
          "text": [
            "\n",
            "Layers =  8 Neurons =  1024\n",
            "----------------------------------------\n",
            "Train on 600000 samples, validate on 30000 samples\n",
            "Epoch 1/5\n",
            " - 24s - loss: 1.6206 - acc: 0.3404 - val_loss: 1.4624 - val_acc: 0.4068\n",
            "Epoch 2/5\n",
            " - 21s - loss: 1.3937 - acc: 0.4295 - val_loss: 1.3269 - val_acc: 0.4552\n",
            "Epoch 3/5\n",
            " - 21s - loss: 1.3114 - acc: 0.4608 - val_loss: 1.3115 - val_acc: 0.4612\n",
            "Epoch 4/5\n",
            " - 21s - loss: 1.2724 - acc: 0.4742 - val_loss: 1.2699 - val_acc: 0.4779\n",
            "Epoch 5/5\n",
            " - 21s - loss: 1.2534 - acc: 0.4808 - val_loss: 1.2674 - val_acc: 0.4719\n"
          ],
          "name": "stdout"
        },
        {
          "output_type": "stream",
          "text": [
            "\n",
            " 50%|█████     | 2/4 [02:31<02:04, 62.25s/it]\u001b[A"
          ],
          "name": "stderr"
        },
        {
          "output_type": "stream",
          "text": [
            "\n",
            "Layers =  8 Neurons =  2048\n",
            "----------------------------------------\n",
            "Train on 600000 samples, validate on 30000 samples\n",
            "Epoch 1/5\n",
            " - 79s - loss: 1.6364 - acc: 0.3319 - val_loss: 1.4497 - val_acc: 0.4050\n",
            "Epoch 2/5\n",
            " - 74s - loss: 1.4237 - acc: 0.4169 - val_loss: 1.3610 - val_acc: 0.4436\n",
            "Epoch 3/5\n",
            " - 74s - loss: 1.3219 - acc: 0.4572 - val_loss: 1.3643 - val_acc: 0.4452\n",
            "Epoch 4/5\n",
            " - 74s - loss: 1.2719 - acc: 0.4747 - val_loss: 1.2761 - val_acc: 0.4686\n",
            "Epoch 5/5\n",
            " - 73s - loss: 1.2539 - acc: 0.4805 - val_loss: 1.2524 - val_acc: 0.4831\n"
          ],
          "name": "stdout"
        },
        {
          "output_type": "stream",
          "text": [
            "\n",
            " 75%|███████▌  | 3/4 [08:48<02:36, 156.41s/it]\u001b[A"
          ],
          "name": "stderr"
        },
        {
          "output_type": "stream",
          "text": [
            "\n",
            "Layers =  8 Neurons =  4096\n",
            "----------------------------------------\n",
            "Train on 600000 samples, validate on 30000 samples\n",
            "Epoch 1/5\n",
            " - 250s - loss: 1.6592 - acc: 0.3258 - val_loss: 1.4427 - val_acc: 0.4004\n",
            "Epoch 2/5\n",
            " - 242s - loss: 1.4208 - acc: 0.4183 - val_loss: 1.3623 - val_acc: 0.4431\n",
            "Epoch 3/5\n",
            " - 242s - loss: 1.3227 - acc: 0.4564 - val_loss: 1.3052 - val_acc: 0.4640\n",
            "Epoch 4/5\n",
            " - 242s - loss: 1.2759 - acc: 0.4741 - val_loss: 1.2772 - val_acc: 0.4695\n",
            "Epoch 5/5\n",
            " - 242s - loss: 1.2444 - acc: 0.4850 - val_loss: 1.2941 - val_acc: 0.4663\n"
          ],
          "name": "stdout"
        },
        {
          "output_type": "stream",
          "text": [
            "\n",
            "100%|██████████| 4/4 [29:07<00:00, 475.21s/it]\u001b[A\n",
            " 86%|████████▌ | 6/7 [1:55:32<21:27, 1287.80s/it]\n",
            "  0%|          | 0/4 [00:00<?, ?it/s]\u001b[A"
          ],
          "name": "stderr"
        },
        {
          "output_type": "stream",
          "text": [
            "\n",
            "Layers =  9 Neurons =  512\n",
            "----------------------------------------\n",
            "Train on 600000 samples, validate on 30000 samples\n",
            "Epoch 1/5\n",
            " - 11s - loss: 1.6552 - acc: 0.3275 - val_loss: 1.4630 - val_acc: 0.4026\n",
            "Epoch 2/5\n",
            " - 8s - loss: 1.4175 - acc: 0.4197 - val_loss: 1.3680 - val_acc: 0.4364\n",
            "Epoch 3/5\n",
            " - 8s - loss: 1.3257 - acc: 0.4559 - val_loss: 1.3575 - val_acc: 0.4416\n",
            "Epoch 4/5\n",
            " - 8s - loss: 1.2956 - acc: 0.4662 - val_loss: 1.2802 - val_acc: 0.4752\n",
            "Epoch 5/5\n",
            " - 8s - loss: 1.2748 - acc: 0.4741 - val_loss: 1.2844 - val_acc: 0.4699\n"
          ],
          "name": "stdout"
        },
        {
          "output_type": "stream",
          "text": [
            "\n",
            " 25%|██▌       | 1/4 [00:46<02:19, 46.35s/it]\u001b[A"
          ],
          "name": "stderr"
        },
        {
          "output_type": "stream",
          "text": [
            "\n",
            "Layers =  9 Neurons =  1024\n",
            "----------------------------------------\n",
            "Train on 600000 samples, validate on 30000 samples\n",
            "Epoch 1/5\n",
            " - 28s - loss: 1.6368 - acc: 0.3335 - val_loss: 1.4577 - val_acc: 0.3874\n",
            "Epoch 2/5\n",
            " - 24s - loss: 1.4148 - acc: 0.4192 - val_loss: 1.3530 - val_acc: 0.4521\n",
            "Epoch 3/5\n",
            " - 24s - loss: 1.3261 - acc: 0.4552 - val_loss: 1.3130 - val_acc: 0.4603\n",
            "Epoch 4/5\n",
            " - 24s - loss: 1.2843 - acc: 0.4698 - val_loss: 1.2752 - val_acc: 0.4744\n",
            "Epoch 5/5\n",
            " - 24s - loss: 1.2556 - acc: 0.4792 - val_loss: 1.2766 - val_acc: 0.4735\n"
          ],
          "name": "stdout"
        },
        {
          "output_type": "stream",
          "text": [
            "\n",
            " 50%|█████     | 2/4 [02:51<02:20, 70.09s/it]\u001b[A"
          ],
          "name": "stderr"
        },
        {
          "output_type": "stream",
          "text": [
            "\n",
            "Layers =  9 Neurons =  2048\n",
            "----------------------------------------\n",
            "Train on 600000 samples, validate on 30000 samples\n",
            "Epoch 1/5\n",
            " - 90s - loss: 1.6308 - acc: 0.3352 - val_loss: 1.4648 - val_acc: 0.3995\n",
            "Epoch 2/5\n",
            " - 85s - loss: 1.4271 - acc: 0.4151 - val_loss: 1.4105 - val_acc: 0.4173\n",
            "Epoch 3/5\n",
            " - 85s - loss: 1.3273 - acc: 0.4545 - val_loss: 1.3863 - val_acc: 0.4234\n",
            "Epoch 4/5\n",
            " - 85s - loss: 1.2824 - acc: 0.4696 - val_loss: 1.2798 - val_acc: 0.4729\n",
            "Epoch 5/5\n",
            " - 85s - loss: 1.2555 - acc: 0.4802 - val_loss: 1.2730 - val_acc: 0.4719\n"
          ],
          "name": "stdout"
        },
        {
          "output_type": "stream",
          "text": [
            "\n",
            " 75%|███████▌  | 3/4 [10:02<02:58, 178.28s/it]\u001b[A"
          ],
          "name": "stderr"
        },
        {
          "output_type": "stream",
          "text": [
            "\n",
            "Layers =  9 Neurons =  4096\n",
            "----------------------------------------\n",
            "Train on 600000 samples, validate on 30000 samples\n",
            "Epoch 1/5\n"
          ],
          "name": "stdout"
        }
      ]
    },
    {
      "cell_type": "markdown",
      "metadata": {
        "id": "z7sgnN6l_dNi",
        "colab_type": "text"
      },
      "source": [
        "\n",
        "\n",
        "``` python\n",
        "Layers =  4 Neurons =  1024\n",
        "```\n",
        "\n"
      ]
    },
    {
      "cell_type": "code",
      "metadata": {
        "id": "zuNvD3mB9Lbo",
        "colab_type": "code",
        "outputId": "2a73198e-7999-4d38-ee68-6ed070cbd8fe",
        "colab": {
          "base_uri": "https://localhost:8080/",
          "height": 510
        }
      },
      "source": [
        "in_shp = list(train_data.shape[1:])\n",
        "model = models.Sequential()\n",
        "model.add(Reshape([1]+in_shp, input_shape=in_shp))\n",
        "model.add(Dense(5000,activation='relu')) \n",
        "model.add(Dense(5000,activation='relu')) \n",
        "model.add(Dense(5000,activation='relu')) \n",
        "model.add(Dense(5000,activation='relu')) \n",
        "model.add(Flatten())\n",
        "model.add(Dense(10))\n",
        "model.add(Activation('softmax'))\n",
        "model.compile(optimizer='adam', loss='sparse_categorical_crossentropy',metrics=['accuracy'])\n",
        "model.fit(train_data, labels_encoded, epochs=100, batch_size=1024, verbose =2, validation_data=(validation_data, valid_labels_encoded), callbacks =[keras.callbacks.EarlyStopping(monitor='val_loss', patience=5, verbose=0, mode='auto')])\n",
        "score = model.evaluate(test_data, test_lbl_encoded, verbose=0, batch_size=10)\n",
        "print('loss','accuracy:')\n",
        "print(score)"
      ],
      "execution_count": 0,
      "outputs": [
        {
          "output_type": "stream",
          "text": [
            "Train on 600000 samples, validate on 30000 samples\n",
            "Epoch 1/100\n",
            " - 168s - loss: 1.5522 - acc: 0.3670 - val_loss: 1.4268 - val_acc: 0.4164\n",
            "Epoch 2/100\n",
            " - 164s - loss: 1.3528 - acc: 0.4456 - val_loss: 1.2925 - val_acc: 0.4663\n",
            "Epoch 3/100\n",
            " - 164s - loss: 1.2747 - acc: 0.4745 - val_loss: 1.2668 - val_acc: 0.4799\n",
            "Epoch 4/100\n",
            " - 164s - loss: 1.2188 - acc: 0.4935 - val_loss: 1.2150 - val_acc: 0.4895\n",
            "Epoch 5/100\n",
            " - 164s - loss: 1.1561 - acc: 0.5184 - val_loss: 1.2212 - val_acc: 0.4975\n",
            "Epoch 6/100\n",
            " - 164s - loss: 1.1262 - acc: 0.5306 - val_loss: 1.1974 - val_acc: 0.5098\n",
            "Epoch 7/100\n",
            " - 164s - loss: 1.1035 - acc: 0.5389 - val_loss: 1.2043 - val_acc: 0.5034\n",
            "Epoch 8/100\n",
            " - 164s - loss: 1.0825 - acc: 0.5465 - val_loss: 1.1937 - val_acc: 0.5104\n",
            "Epoch 9/100\n",
            " - 163s - loss: 1.0587 - acc: 0.5562 - val_loss: 1.2215 - val_acc: 0.5128\n",
            "Epoch 10/100\n",
            " - 163s - loss: 1.0303 - acc: 0.5656 - val_loss: 1.2287 - val_acc: 0.5118\n",
            "Epoch 11/100\n",
            " - 163s - loss: 1.0008 - acc: 0.5768 - val_loss: 1.2581 - val_acc: 0.5116\n",
            "Epoch 12/100\n",
            " - 163s - loss: 0.9641 - acc: 0.5901 - val_loss: 1.2839 - val_acc: 0.5053\n",
            "Epoch 13/100\n",
            " - 163s - loss: 0.9216 - acc: 0.6058 - val_loss: 1.3720 - val_acc: 0.5114\n",
            "loss accuracy:\n",
            "[1.3725838674184478, 0.5118210531356826]\n"
          ],
          "name": "stdout"
        }
      ]
    },
    {
      "cell_type": "markdown",
      "metadata": {
        "id": "9Vsz0M9xEE8g",
        "colab_type": "text"
      },
      "source": [
        "## Big picture"
      ]
    },
    {
      "cell_type": "markdown",
      "metadata": {
        "id": "KNZB2wrGfpLd",
        "colab_type": "text"
      },
      "source": [
        "### 1. Plots of the accuracy against the SNR."
      ]
    },
    {
      "cell_type": "code",
      "metadata": {
        "id": "mdSuiKsrfraP",
        "colab_type": "code",
        "outputId": "e886c5fd-76a2-4121-d13b-f469bf688633",
        "colab": {
          "base_uri": "https://localhost:8080/",
          "height": 7772
        }
      },
      "source": [
        "acc = []\n",
        "sig_ = int(len(test_data) / (len(snrs) * len(mods)))\n",
        "count = 0;\n",
        "for i in trange(200):\n",
        "  for j in trange(sig_):\n",
        "    if(rounded_pred[j + sig_ * i] == test_lbl_encoded[j + sig_ * i]):\n",
        "      count+=1\n",
        "  acc.append(1-(count/sig_))\n",
        "  count = 0\n",
        "  \n",
        "avg = []\n",
        "print(len(acc))\n",
        "for i in trange(len(snrs)):\n",
        "  avg.append(sum(acc[i::len(snrs)])/len(snrs))\n",
        "  \n",
        "print(len(avg))\n",
        "accur =np.array(acc)\n",
        "plt.plot(snrs,avg[::-1])\n",
        "print(avg)\n",
        "# plt.plot(lbl,acc[10::20])"
      ],
      "execution_count": 0,
      "outputs": [
        {
          "output_type": "stream",
          "text": [
            "  0%|          | 0/200 [00:00<?, ?it/s]\n",
            "  0%|          | 0/2850 [00:00<?, ?it/s]\u001b[A\n",
            "100%|██████████| 2850/2850 [00:00<00:00, 568414.95it/s]\u001b[A\n",
            "  0%|          | 0/2850 [00:00<?, ?it/s]\u001b[A\n",
            "100%|██████████| 2850/2850 [00:00<00:00, 436141.51it/s]\u001b[A\n",
            "  0%|          | 0/2850 [00:00<?, ?it/s]\u001b[A\n",
            "100%|██████████| 2850/2850 [00:00<00:00, 422319.96it/s]\u001b[A\n",
            "  0%|          | 0/2850 [00:00<?, ?it/s]\u001b[A\n",
            "100%|██████████| 2850/2850 [00:00<00:00, 302450.89it/s]\u001b[A\n",
            "  0%|          | 0/2850 [00:00<?, ?it/s]\u001b[A\n",
            "100%|██████████| 2850/2850 [00:00<00:00, 281172.47it/s]\u001b[A\n",
            "  0%|          | 0/2850 [00:00<?, ?it/s]\u001b[A\n",
            "100%|██████████| 2850/2850 [00:00<00:00, 393138.41it/s]\u001b[A\n",
            "  0%|          | 0/2850 [00:00<?, ?it/s]\u001b[A\n",
            "100%|██████████| 2850/2850 [00:00<00:00, 393384.22it/s]\u001b[A\n",
            "  0%|          | 0/2850 [00:00<?, ?it/s]\u001b[A\n",
            "  4%|▍         | 8/200 [00:00<00:02, 73.31it/s]\n",
            "  0%|          | 0/2850 [00:00<?, ?it/s]\u001b[A\n",
            "100%|██████████| 2850/2850 [00:00<00:00, 199768.82it/s]\u001b[A\n",
            "  0%|          | 0/2850 [00:00<?, ?it/s]\u001b[A\n",
            "100%|██████████| 2850/2850 [00:00<00:00, 381677.78it/s]\u001b[A\n",
            "  0%|          | 0/2850 [00:00<?, ?it/s]\u001b[A\n",
            "100%|██████████| 2850/2850 [00:00<00:00, 427103.27it/s]\u001b[A\n",
            "  0%|          | 0/2850 [00:00<?, ?it/s]\u001b[A\n",
            "100%|██████████| 2850/2850 [00:00<00:00, 385344.33it/s]\u001b[A\n",
            "  0%|          | 0/2850 [00:00<?, ?it/s]\u001b[A\n",
            "100%|██████████| 2850/2850 [00:00<00:00, 394396.60it/s]\u001b[A\n",
            "  0%|          | 0/2850 [00:00<?, ?it/s]\u001b[A\n",
            "100%|██████████| 2850/2850 [00:00<00:00, 395218.09it/s]\u001b[A\n",
            "  0%|          | 0/2850 [00:00<?, ?it/s]\u001b[A\n",
            "  8%|▊         | 15/200 [00:00<00:02, 72.10it/s]\n",
            "  0%|          | 0/2850 [00:00<?, ?it/s]\u001b[A\n",
            "100%|██████████| 2850/2850 [00:00<00:00, 505744.05it/s]\u001b[A\n",
            "  0%|          | 0/2850 [00:00<?, ?it/s]\u001b[A\n",
            "100%|██████████| 2850/2850 [00:00<00:00, 519345.11it/s]\u001b[A\n",
            "  0%|          | 0/2850 [00:00<?, ?it/s]\u001b[A\n",
            "100%|██████████| 2850/2850 [00:00<00:00, 529912.51it/s]\u001b[A\n",
            "  0%|          | 0/2850 [00:00<?, ?it/s]\u001b[A\n",
            "100%|██████████| 2850/2850 [00:00<00:00, 525278.66it/s]\u001b[A\n",
            "  0%|          | 0/2850 [00:00<?, ?it/s]\u001b[A\n",
            "100%|██████████| 2850/2850 [00:00<00:00, 495904.02it/s]\u001b[A\n",
            "  0%|          | 0/2850 [00:00<?, ?it/s]\u001b[A\n",
            "100%|██████████| 2850/2850 [00:00<00:00, 518084.62it/s]\u001b[A\n",
            "  0%|          | 0/2850 [00:00<?, ?it/s]\u001b[A\n",
            "100%|██████████| 2850/2850 [00:00<00:00, 541335.31it/s]\u001b[A\n",
            "  0%|          | 0/2850 [00:00<?, ?it/s]\u001b[A\n",
            "100%|██████████| 2850/2850 [00:00<00:00, 532865.26it/s]\u001b[A\n",
            "  0%|          | 0/2850 [00:00<?, ?it/s]\u001b[A\n",
            "100%|██████████| 2850/2850 [00:00<00:00, 509060.83it/s]\u001b[A\n",
            "  0%|          | 0/2850 [00:00<?, ?it/s]\u001b[A\n",
            " 12%|█▎        | 25/200 [00:00<00:02, 78.33it/s]\n",
            "  0%|          | 0/2850 [00:00<?, ?it/s]\u001b[A\n",
            "100%|██████████| 2850/2850 [00:00<00:00, 500765.21it/s]\u001b[A\n",
            "  0%|          | 0/2850 [00:00<?, ?it/s]\u001b[A\n",
            "100%|██████████| 2850/2850 [00:00<00:00, 469106.29it/s]\u001b[A\n",
            "  0%|          | 0/2850 [00:00<?, ?it/s]\u001b[A\n",
            "100%|██████████| 2850/2850 [00:00<00:00, 462911.61it/s]\u001b[A\n",
            "  0%|          | 0/2850 [00:00<?, ?it/s]\u001b[A\n",
            "100%|██████████| 2850/2850 [00:00<00:00, 453017.26it/s]\u001b[A\n",
            "  0%|          | 0/2850 [00:00<?, ?it/s]\u001b[A\n",
            "100%|██████████| 2850/2850 [00:00<00:00, 446152.59it/s]\u001b[A\n",
            "  0%|          | 0/2850 [00:00<?, ?it/s]\u001b[A\n",
            "100%|██████████| 2850/2850 [00:00<00:00, 422454.28it/s]\u001b[A\n",
            "  0%|          | 0/2850 [00:00<?, ?it/s]\u001b[A\n",
            "100%|██████████| 2850/2850 [00:00<00:00, 446269.19it/s]\u001b[A\n",
            "  0%|          | 0/2850 [00:00<?, ?it/s]\u001b[A\n",
            "100%|██████████| 2850/2850 [00:00<00:00, 462983.32it/s]\u001b[A\n",
            "  0%|          | 0/2850 [00:00<?, ?it/s]\u001b[A\n",
            " 17%|█▋        | 34/200 [00:00<00:02, 81.32it/s]\n",
            "  0%|          | 0/2850 [00:00<?, ?it/s]\u001b[A\n",
            "100%|██████████| 2850/2850 [00:00<00:00, 394604.91it/s]\u001b[A\n",
            "  0%|          | 0/2850 [00:00<?, ?it/s]\u001b[A\n",
            "100%|██████████| 2850/2850 [00:00<00:00, 421159.37it/s]\u001b[A\n",
            "  0%|          | 0/2850 [00:00<?, ?it/s]\u001b[A\n",
            "100%|██████████| 2850/2850 [00:00<00:00, 407449.94it/s]\u001b[A\n",
            "  0%|          | 0/2850 [00:00<?, ?it/s]\u001b[A\n",
            "100%|██████████| 2850/2850 [00:00<00:00, 401658.76it/s]\u001b[A\n",
            "  0%|          | 0/2850 [00:00<?, ?it/s]\u001b[A\n",
            "100%|██████████| 2850/2850 [00:00<00:00, 415696.43it/s]\u001b[A\n",
            "  0%|          | 0/2850 [00:00<?, ?it/s]\u001b[A\n",
            "100%|██████████| 2850/2850 [00:00<00:00, 361130.07it/s]\u001b[A\n",
            "  0%|          | 0/2850 [00:00<?, ?it/s]\u001b[A\n",
            "100%|██████████| 2850/2850 [00:00<00:00, 432308.65it/s]\u001b[A\n",
            "  0%|          | 0/2850 [00:00<?, ?it/s]\u001b[A\n",
            "100%|██████████| 2850/2850 [00:00<00:00, 452657.01it/s]\u001b[A\n",
            "  0%|          | 0/2850 [00:00<?, ?it/s]\u001b[A\n",
            " 22%|██▏       | 43/200 [00:00<00:01, 81.43it/s]\n",
            "  0%|          | 0/2850 [00:00<?, ?it/s]\u001b[A\n",
            "100%|██████████| 2850/2850 [00:00<00:00, 431902.53it/s]\u001b[A\n",
            "  0%|          | 0/2850 [00:00<?, ?it/s]\u001b[A\n",
            "100%|██████████| 2850/2850 [00:00<00:00, 427133.80it/s]\u001b[A\n",
            "  0%|          | 0/2850 [00:00<?, ?it/s]\u001b[A\n",
            "100%|██████████| 2850/2850 [00:00<00:00, 436460.00it/s]\u001b[A\n",
            "  0%|          | 0/2850 [00:00<?, ?it/s]\u001b[A\n",
            "100%|██████████| 2850/2850 [00:00<00:00, 442961.77it/s]\u001b[A\n",
            "  0%|          | 0/2850 [00:00<?, ?it/s]\u001b[A\n",
            "100%|██████████| 2850/2850 [00:00<00:00, 413496.36it/s]\u001b[A\n",
            "  0%|          | 0/2850 [00:00<?, ?it/s]\u001b[A\n",
            "100%|██████████| 2850/2850 [00:00<00:00, 420759.11it/s]\u001b[A\n",
            "  0%|          | 0/2850 [00:00<?, ?it/s]\u001b[A\n",
            "100%|██████████| 2850/2850 [00:00<00:00, 402388.88it/s]\u001b[A\n",
            "  0%|          | 0/2850 [00:00<?, ?it/s]\u001b[A\n",
            "100%|██████████| 2850/2850 [00:00<00:00, 421292.96it/s]\u001b[A\n",
            "  0%|          | 0/2850 [00:00<?, ?it/s]\u001b[A\n",
            " 26%|██▌       | 52/200 [00:00<00:01, 81.55it/s]\n",
            "  0%|          | 0/2850 [00:00<?, ?it/s]\u001b[A\n",
            "100%|██████████| 2850/2850 [00:00<00:00, 412141.99it/s]\u001b[A\n",
            "  0%|          | 0/2850 [00:00<?, ?it/s]\u001b[A\n",
            "100%|██████████| 2850/2850 [00:00<00:00, 406079.64it/s]\u001b[A\n",
            "  0%|          | 0/2850 [00:00<?, ?it/s]\u001b[A\n",
            "100%|██████████| 2850/2850 [00:00<00:00, 409347.52it/s]\u001b[A\n",
            "  0%|          | 0/2850 [00:00<?, ?it/s]\u001b[A\n",
            "100%|██████████| 2850/2850 [00:00<00:00, 242607.70it/s]\u001b[A\n",
            "  0%|          | 0/2850 [00:00<?, ?it/s]\u001b[A\n",
            "100%|██████████| 2850/2850 [00:00<00:00, 361588.87it/s]\u001b[A\n",
            "  0%|          | 0/2850 [00:00<?, ?it/s]\u001b[A\n",
            "100%|██████████| 2850/2850 [00:00<00:00, 372577.18it/s]\u001b[A\n",
            "  0%|          | 0/2850 [00:00<?, ?it/s]\u001b[A\n",
            "100%|██████████| 2850/2850 [00:00<00:00, 406231.44it/s]\u001b[A\n",
            "  0%|          | 0/2850 [00:00<?, ?it/s]\u001b[A\n",
            " 30%|███       | 60/200 [00:00<00:01, 78.48it/s]\n",
            "  0%|          | 0/2850 [00:00<?, ?it/s]\u001b[A\n",
            "100%|██████████| 2850/2850 [00:00<00:00, 417613.42it/s]\u001b[A\n",
            "  0%|          | 0/2850 [00:00<?, ?it/s]\u001b[A\n",
            "100%|██████████| 2850/2850 [00:00<00:00, 425946.64it/s]\u001b[A\n",
            "  0%|          | 0/2850 [00:00<?, ?it/s]\u001b[A\n",
            "100%|██████████| 2850/2850 [00:00<00:00, 438734.73it/s]\u001b[A\n",
            "  0%|          | 0/2850 [00:00<?, ?it/s]\u001b[A\n",
            "100%|██████████| 2850/2850 [00:00<00:00, 419946.12it/s]\u001b[A\n",
            "  0%|          | 0/2850 [00:00<?, ?it/s]\u001b[A\n",
            "100%|██████████| 2850/2850 [00:00<00:00, 507418.56it/s]\u001b[A\n",
            "  0%|          | 0/2850 [00:00<?, ?it/s]\u001b[A\n",
            "100%|██████████| 2850/2850 [00:00<00:00, 600390.08it/s]\u001b[A\n",
            "  0%|          | 0/2850 [00:00<?, ?it/s]\u001b[A\n",
            "100%|██████████| 2850/2850 [00:00<00:00, 648498.15it/s]\u001b[A\n",
            "  0%|          | 0/2850 [00:00<?, ?it/s]\u001b[A\n",
            "100%|██████████| 2850/2850 [00:00<00:00, 231698.06it/s]\u001b[A\n",
            "  0%|          | 0/2850 [00:00<?, ?it/s]\u001b[A\n",
            " 34%|███▍      | 69/200 [00:00<00:01, 79.67it/s]\n",
            "  0%|          | 0/2850 [00:00<?, ?it/s]\u001b[A\n",
            "100%|██████████| 2850/2850 [00:00<00:00, 477329.65it/s]\u001b[A\n",
            "  0%|          | 0/2850 [00:00<?, ?it/s]\u001b[A\n",
            "100%|██████████| 2850/2850 [00:00<00:00, 470065.53it/s]\u001b[A\n",
            "  0%|          | 0/2850 [00:00<?, ?it/s]\u001b[A\n",
            "100%|██████████| 2850/2850 [00:00<00:00, 483078.05it/s]\u001b[A\n",
            "  0%|          | 0/2850 [00:00<?, ?it/s]\u001b[A\n",
            "100%|██████████| 2850/2850 [00:00<00:00, 489026.61it/s]\u001b[A\n",
            "  0%|          | 0/2850 [00:00<?, ?it/s]\u001b[A\n",
            "100%|██████████| 2850/2850 [00:00<00:00, 489346.91it/s]\u001b[A\n",
            "  0%|          | 0/2850 [00:00<?, ?it/s]\u001b[A\n",
            "100%|██████████| 2850/2850 [00:00<00:00, 470973.03it/s]\u001b[A\n",
            "  0%|          | 0/2850 [00:00<?, ?it/s]\u001b[A\n",
            "100%|██████████| 2850/2850 [00:00<00:00, 492816.89it/s]\u001b[A\n",
            "  0%|          | 0/2850 [00:00<?, ?it/s]\u001b[A\n",
            "100%|██████████| 2850/2850 [00:00<00:00, 478322.85it/s]\u001b[A\n",
            "  0%|          | 0/2850 [00:00<?, ?it/s]\u001b[A\n",
            "100%|██████████| 2850/2850 [00:00<00:00, 494161.49it/s]\u001b[A\n",
            "  0%|          | 0/2850 [00:00<?, ?it/s]\u001b[A\n",
            " 40%|███▉      | 79/200 [00:00<00:01, 83.76it/s]\n",
            "  0%|          | 0/2850 [00:00<?, ?it/s]\u001b[A\n",
            "100%|██████████| 2850/2850 [00:00<00:00, 482941.44it/s]\u001b[A\n",
            "  0%|          | 0/2850 [00:00<?, ?it/s]\u001b[A\n",
            "100%|██████████| 2850/2850 [00:00<00:00, 519909.81it/s]\u001b[A\n",
            "  0%|          | 0/2850 [00:00<?, ?it/s]\u001b[A\n",
            "100%|██████████| 2850/2850 [00:00<00:00, 503443.67it/s]\u001b[A\n",
            "  0%|          | 0/2850 [00:00<?, ?it/s]\u001b[A\n",
            "100%|██████████| 2850/2850 [00:00<00:00, 507375.48it/s]\u001b[A\n",
            "  0%|          | 0/2850 [00:00<?, ?it/s]\u001b[A\n",
            "100%|██████████| 2850/2850 [00:00<00:00, 492979.48it/s]\u001b[A\n",
            "  0%|          | 0/2850 [00:00<?, ?it/s]\u001b[A\n",
            "100%|██████████| 2850/2850 [00:00<00:00, 515915.68it/s]\u001b[A\n",
            "  0%|          | 0/2850 [00:00<?, ?it/s]\u001b[A\n",
            "100%|██████████| 2850/2850 [00:00<00:00, 481424.34it/s]\u001b[A\n",
            "  0%|          | 0/2850 [00:00<?, ?it/s]\u001b[A\n",
            "100%|██████████| 2850/2850 [00:00<00:00, 432214.86it/s]\u001b[A\n",
            "  0%|          | 0/2850 [00:00<?, ?it/s]\u001b[A\n",
            " 44%|████▍     | 88/200 [00:01<00:01, 85.18it/s]\n",
            "  0%|          | 0/2850 [00:00<?, ?it/s]\u001b[A\n",
            "100%|██████████| 2850/2850 [00:00<00:00, 286557.99it/s]\u001b[A\n",
            "  0%|          | 0/2850 [00:00<?, ?it/s]\u001b[A\n",
            "100%|██████████| 2850/2850 [00:00<00:00, 284803.35it/s]\u001b[A\n",
            "  0%|          | 0/2850 [00:00<?, ?it/s]\u001b[A\n",
            "100%|██████████| 2850/2850 [00:00<00:00, 319978.76it/s]\u001b[A\n",
            "  0%|          | 0/2850 [00:00<?, ?it/s]\u001b[A\n",
            "100%|██████████| 2850/2850 [00:00<00:00, 316421.37it/s]\u001b[A\n",
            "  0%|          | 0/2850 [00:00<?, ?it/s]\u001b[A\n",
            "100%|██████████| 2850/2850 [00:00<00:00, 311571.87it/s]\u001b[A\n",
            "  0%|          | 0/2850 [00:00<?, ?it/s]\u001b[A\n",
            "100%|██████████| 2850/2850 [00:00<00:00, 476397.51it/s]\u001b[A\n",
            "  0%|          | 0/2850 [00:00<?, ?it/s]\u001b[A\n",
            "100%|██████████| 2850/2850 [00:00<00:00, 301946.66it/s]\u001b[A\n",
            "  0%|          | 0/2850 [00:00<?, ?it/s]\u001b[A\n",
            "100%|██████████| 2850/2850 [00:00<00:00, 312623.02it/s]\u001b[A\n",
            "  0%|          | 0/2850 [00:00<?, ?it/s]\u001b[A\n",
            " 48%|████▊     | 97/200 [00:01<00:01, 77.76it/s]\n",
            "  0%|          | 0/2850 [00:00<?, ?it/s]\u001b[A\n",
            "100%|██████████| 2850/2850 [00:00<00:00, 296892.09it/s]\u001b[A\n",
            "  0%|          | 0/2850 [00:00<?, ?it/s]\u001b[A\n",
            "100%|██████████| 2850/2850 [00:00<00:00, 137549.81it/s]\u001b[A\n",
            "  0%|          | 0/2850 [00:00<?, ?it/s]\u001b[A\n",
            "100%|██████████| 2850/2850 [00:00<00:00, 289416.42it/s]\u001b[A\n",
            "  0%|          | 0/2850 [00:00<?, ?it/s]\u001b[A\n",
            "100%|██████████| 2850/2850 [00:00<00:00, 342868.47it/s]\u001b[A\n",
            "  0%|          | 0/2850 [00:00<?, ?it/s]\u001b[A\n",
            "100%|██████████| 2850/2850 [00:00<00:00, 316078.33it/s]\u001b[A\n",
            "  0%|          | 0/2850 [00:00<?, ?it/s]\u001b[A\n",
            "100%|██████████| 2850/2850 [00:00<00:00, 429450.92it/s]\u001b[A\n",
            "  0%|          | 0/2850 [00:00<?, ?it/s]\u001b[A\n",
            "100%|██████████| 2850/2850 [00:00<00:00, 424419.19it/s]\u001b[A\n",
            "  0%|          | 0/2850 [00:00<?, ?it/s]\u001b[A\n",
            " 52%|█████▎    | 105/200 [00:01<00:01, 71.93it/s]\n",
            "  0%|          | 0/2850 [00:00<?, ?it/s]\u001b[A\n",
            "100%|██████████| 2850/2850 [00:00<00:00, 413181.93it/s]\u001b[A\n",
            "  0%|          | 0/2850 [00:00<?, ?it/s]\u001b[A\n",
            "100%|██████████| 2850/2850 [00:00<00:00, 429543.51it/s]\u001b[A\n",
            "  0%|          | 0/2850 [00:00<?, ?it/s]\u001b[A\n",
            "100%|██████████| 2850/2850 [00:00<00:00, 411008.33it/s]\u001b[A\n",
            "  0%|          | 0/2850 [00:00<?, ?it/s]\u001b[A\n",
            "100%|██████████| 2850/2850 [00:00<00:00, 425022.81it/s]\u001b[A\n",
            "  0%|          | 0/2850 [00:00<?, ?it/s]\u001b[A\n",
            "100%|██████████| 2850/2850 [00:00<00:00, 393203.07it/s]\u001b[A\n",
            "  0%|          | 0/2850 [00:00<?, ?it/s]\u001b[A\n",
            "100%|██████████| 2850/2850 [00:00<00:00, 402402.42it/s]\u001b[A\n",
            "  0%|          | 0/2850 [00:00<?, ?it/s]\u001b[A\n",
            "100%|██████████| 2850/2850 [00:00<00:00, 407463.83it/s]\u001b[A\n",
            "  0%|          | 0/2850 [00:00<?, ?it/s]\u001b[A\n",
            " 56%|█████▋    | 113/200 [00:01<00:01, 73.74it/s]\n",
            "  0%|          | 0/2850 [00:00<?, ?it/s]\u001b[A\n",
            "100%|██████████| 2850/2850 [00:00<00:00, 265438.70it/s]\u001b[A\n",
            "  0%|          | 0/2850 [00:00<?, ?it/s]\u001b[A\n",
            "100%|██████████| 2850/2850 [00:00<00:00, 305902.87it/s]\u001b[A\n",
            "  0%|          | 0/2850 [00:00<?, ?it/s]\u001b[A\n",
            "100%|██████████| 2850/2850 [00:00<00:00, 286922.53it/s]\u001b[A\n",
            "  0%|          | 0/2850 [00:00<?, ?it/s]\u001b[A\n",
            "100%|██████████| 2850/2850 [00:00<00:00, 292812.23it/s]\u001b[A\n",
            "  0%|          | 0/2850 [00:00<?, ?it/s]\u001b[A\n",
            "100%|██████████| 2850/2850 [00:00<00:00, 299210.69it/s]\u001b[A\n",
            "  0%|          | 0/2850 [00:00<?, ?it/s]\u001b[A\n",
            "100%|██████████| 2850/2850 [00:00<00:00, 316120.12it/s]\u001b[A\n",
            "  0%|          | 0/2850 [00:00<?, ?it/s]\u001b[A\n",
            "100%|██████████| 2850/2850 [00:00<00:00, 308922.77it/s]\u001b[A\n",
            "  0%|          | 0/2850 [00:00<?, ?it/s]\u001b[A\n",
            " 60%|██████    | 121/200 [00:01<00:01, 69.31it/s]\n",
            "  0%|          | 0/2850 [00:00<?, ?it/s]\u001b[A\n",
            "100%|██████████| 2850/2850 [00:00<00:00, 440821.86it/s]\u001b[A\n",
            "  0%|          | 0/2850 [00:00<?, ?it/s]\u001b[A\n",
            "100%|██████████| 2850/2850 [00:00<00:00, 342416.68it/s]\u001b[A\n",
            "  0%|          | 0/2850 [00:00<?, ?it/s]\u001b[A\n",
            "100%|██████████| 2850/2850 [00:00<00:00, 338739.17it/s]\u001b[A\n",
            "  0%|          | 0/2850 [00:00<?, ?it/s]\u001b[A\n",
            "100%|██████████| 2850/2850 [00:00<00:00, 309755.29it/s]\u001b[A\n",
            "  0%|          | 0/2850 [00:00<?, ?it/s]\u001b[A\n",
            "100%|██████████| 2850/2850 [00:00<00:00, 320227.34it/s]\u001b[A\n",
            "  0%|          | 0/2850 [00:00<?, ?it/s]\u001b[A\n",
            "100%|██████████| 2850/2850 [00:00<00:00, 313994.39it/s]\u001b[A\n",
            "  0%|          | 0/2850 [00:00<?, ?it/s]\u001b[A\n",
            "100%|██████████| 2850/2850 [00:00<00:00, 325564.90it/s]\u001b[A\n",
            "  0%|          | 0/2850 [00:00<?, ?it/s]\u001b[A\n",
            " 64%|██████▍   | 129/200 [00:01<00:01, 67.63it/s]\n",
            "  0%|          | 0/2850 [00:00<?, ?it/s]\u001b[A\n",
            "100%|██████████| 2850/2850 [00:00<00:00, 324372.26it/s]\u001b[A\n",
            "  0%|          | 0/2850 [00:00<?, ?it/s]\u001b[A\n",
            "100%|██████████| 2850/2850 [00:00<00:00, 216816.90it/s]\u001b[A\n",
            "  0%|          | 0/2850 [00:00<?, ?it/s]\u001b[A\n",
            "100%|██████████| 2850/2850 [00:00<00:00, 191116.54it/s]\u001b[A\n",
            "  0%|          | 0/2850 [00:00<?, ?it/s]\u001b[A\n",
            "100%|██████████| 2850/2850 [00:00<00:00, 370923.96it/s]\u001b[A\n",
            "  0%|          | 0/2850 [00:00<?, ?it/s]\u001b[A\n",
            "100%|██████████| 2850/2850 [00:00<00:00, 403380.12it/s]\u001b[A\n",
            "  0%|          | 0/2850 [00:00<?, ?it/s]\u001b[A\n",
            "100%|██████████| 2850/2850 [00:00<00:00, 404828.18it/s]\u001b[A\n",
            "  0%|          | 0/2850 [00:00<?, ?it/s]\u001b[A\n",
            " 68%|██████▊   | 136/200 [00:01<00:00, 67.43it/s]\n",
            "  0%|          | 0/2850 [00:00<?, ?it/s]\u001b[A\n",
            "100%|██████████| 2850/2850 [00:00<00:00, 429528.08it/s]\u001b[A\n",
            "  0%|          | 0/2850 [00:00<?, ?it/s]\u001b[A\n",
            "100%|██████████| 2850/2850 [00:00<00:00, 429806.07it/s]\u001b[A\n",
            "  0%|          | 0/2850 [00:00<?, ?it/s]\u001b[A\n",
            "100%|██████████| 2850/2850 [00:00<00:00, 434429.66it/s]\u001b[A\n",
            "  0%|          | 0/2850 [00:00<?, ?it/s]\u001b[A\n",
            "100%|██████████| 2850/2850 [00:00<00:00, 411546.04it/s]\u001b[A\n",
            "  0%|          | 0/2850 [00:00<?, ?it/s]\u001b[A\n",
            "100%|██████████| 2850/2850 [00:00<00:00, 436205.17it/s]\u001b[A\n",
            "  0%|          | 0/2850 [00:00<?, ?it/s]\u001b[A\n",
            "100%|██████████| 2850/2850 [00:00<00:00, 396450.20it/s]\u001b[A\n",
            "  0%|          | 0/2850 [00:00<?, ?it/s]\u001b[A\n",
            "100%|██████████| 2850/2850 [00:00<00:00, 436890.70it/s]\u001b[A\n",
            "  0%|          | 0/2850 [00:00<?, ?it/s]\u001b[A\n",
            " 72%|███████▏  | 144/200 [00:01<00:00, 70.68it/s]\n",
            "  0%|          | 0/2850 [00:00<?, ?it/s]\u001b[A\n",
            "100%|██████████| 2850/2850 [00:00<00:00, 414069.29it/s]\u001b[A\n",
            "  0%|          | 0/2850 [00:00<?, ?it/s]\u001b[A\n",
            "100%|██████████| 2850/2850 [00:00<00:00, 429512.64it/s]\u001b[A\n",
            "  0%|          | 0/2850 [00:00<?, ?it/s]\u001b[A\n",
            "100%|██████████| 2850/2850 [00:00<00:00, 392557.43it/s]\u001b[A\n",
            "  0%|          | 0/2850 [00:00<?, ?it/s]\u001b[A\n",
            "100%|██████████| 2850/2850 [00:00<00:00, 391991.03it/s]\u001b[A\n",
            "  0%|          | 0/2850 [00:00<?, ?it/s]\u001b[A\n",
            "100%|██████████| 2850/2850 [00:00<00:00, 391016.53it/s]\u001b[A\n",
            "  0%|          | 0/2850 [00:00<?, ?it/s]\u001b[A\n",
            "100%|██████████| 2850/2850 [00:00<00:00, 392905.81it/s]\u001b[A\n",
            "  0%|          | 0/2850 [00:00<?, ?it/s]\u001b[A\n",
            "100%|██████████| 2850/2850 [00:00<00:00, 392879.98it/s]\u001b[A\n",
            "  0%|          | 0/2850 [00:00<?, ?it/s]\u001b[A\n",
            "100%|██████████| 2850/2850 [00:00<00:00, 360705.08it/s]\u001b[A\n",
            "  0%|          | 0/2850 [00:00<?, ?it/s]\u001b[A\n",
            " 76%|███████▋  | 153/200 [00:02<00:00, 73.16it/s]\n",
            "  0%|          | 0/2850 [00:00<?, ?it/s]\u001b[A\n",
            "100%|██████████| 2850/2850 [00:00<00:00, 387983.33it/s]\u001b[A\n",
            "  0%|          | 0/2850 [00:00<?, ?it/s]\u001b[A\n",
            "100%|██████████| 2850/2850 [00:00<00:00, 413396.27it/s]\u001b[A\n",
            "  0%|          | 0/2850 [00:00<?, ?it/s]\u001b[A\n",
            "100%|██████████| 2850/2850 [00:00<00:00, 388651.90it/s]\u001b[A\n",
            "  0%|          | 0/2850 [00:00<?, ?it/s]\u001b[A\n",
            "100%|██████████| 2850/2850 [00:00<00:00, 393345.39it/s]\u001b[A\n",
            "  0%|          | 0/2850 [00:00<?, ?it/s]\u001b[A\n",
            "100%|██████████| 2850/2850 [00:00<00:00, 396555.41it/s]\u001b[A\n",
            "  0%|          | 0/2850 [00:00<?, ?it/s]\u001b[A\n",
            "100%|██████████| 2850/2850 [00:00<00:00, 423697.10it/s]\u001b[A\n",
            "  0%|          | 0/2850 [00:00<?, ?it/s]\u001b[A\n",
            "100%|██████████| 2850/2850 [00:00<00:00, 401874.82it/s]\u001b[A\n",
            "  0%|          | 0/2850 [00:00<?, ?it/s]\u001b[A\n",
            "100%|██████████| 2850/2850 [00:00<00:00, 401874.82it/s]\u001b[A\n",
            "  0%|          | 0/2850 [00:00<?, ?it/s]\u001b[A\n",
            " 81%|████████  | 162/200 [00:02<00:00, 75.13it/s]\n",
            "  0%|          | 0/2850 [00:00<?, ?it/s]\u001b[A\n",
            "100%|██████████| 2850/2850 [00:00<00:00, 418886.58it/s]\u001b[A\n",
            "  0%|          | 0/2850 [00:00<?, ?it/s]\u001b[A\n",
            "100%|██████████| 2850/2850 [00:00<00:00, 434508.61it/s]\u001b[A\n",
            "  0%|          | 0/2850 [00:00<?, ?it/s]\u001b[A\n",
            "100%|██████████| 2850/2850 [00:00<00:00, 420996.21it/s]\u001b[A\n",
            "  0%|          | 0/2850 [00:00<?, ?it/s]\u001b[A\n",
            "100%|██████████| 2850/2850 [00:00<00:00, 403407.34it/s]\u001b[A\n",
            "  0%|          | 0/2850 [00:00<?, ?it/s]\u001b[A\n",
            "100%|██████████| 2850/2850 [00:00<00:00, 401820.78it/s]\u001b[A\n",
            "  0%|          | 0/2850 [00:00<?, ?it/s]\u001b[A\n",
            "100%|██████████| 2850/2850 [00:00<00:00, 383367.00it/s]\u001b[A\n",
            "  0%|          | 0/2850 [00:00<?, ?it/s]\u001b[A\n",
            "100%|██████████| 2850/2850 [00:00<00:00, 403911.69it/s]\u001b[A\n",
            "  0%|          | 0/2850 [00:00<?, ?it/s]\u001b[A\n",
            " 85%|████████▌ | 170/200 [00:02<00:00, 76.20it/s]\n",
            "  0%|          | 0/2850 [00:00<?, ?it/s]\u001b[A\n",
            "100%|██████████| 2850/2850 [00:00<00:00, 397597.42it/s]\u001b[A\n",
            "  0%|          | 0/2850 [00:00<?, ?it/s]\u001b[A\n",
            "100%|██████████| 2850/2850 [00:00<00:00, 391362.18it/s]\u001b[A\n",
            "  0%|          | 0/2850 [00:00<?, ?it/s]\u001b[A\n",
            "100%|██████████| 2850/2850 [00:00<00:00, 417147.07it/s]\u001b[A\n",
            "  0%|          | 0/2850 [00:00<?, ?it/s]\u001b[A\n",
            "100%|██████████| 2850/2850 [00:00<00:00, 394279.52it/s]\u001b[A\n",
            "  0%|          | 0/2850 [00:00<?, ?it/s]\u001b[A\n",
            "100%|██████████| 2850/2850 [00:00<00:00, 398273.02it/s]\u001b[A\n",
            "  0%|          | 0/2850 [00:00<?, ?it/s]\u001b[A\n",
            "100%|██████████| 2850/2850 [00:00<00:00, 545485.37it/s]\u001b[A\n",
            "  0%|          | 0/2850 [00:00<?, ?it/s]\u001b[A\n",
            "100%|██████████| 2850/2850 [00:00<00:00, 395571.21it/s]\u001b[A\n",
            "  0%|          | 0/2850 [00:00<?, ?it/s]\u001b[A\n",
            "100%|██████████| 2850/2850 [00:00<00:00, 401577.80it/s]\u001b[A\n",
            "  0%|          | 0/2850 [00:00<?, ?it/s]\u001b[A\n",
            " 90%|████████▉ | 179/200 [00:02<00:00, 77.59it/s]\n",
            "  0%|          | 0/2850 [00:00<?, ?it/s]\u001b[A\n",
            "100%|██████████| 2850/2850 [00:00<00:00, 418827.88it/s]\u001b[A\n",
            "  0%|          | 0/2850 [00:00<?, ?it/s]\u001b[A\n",
            "100%|██████████| 2850/2850 [00:00<00:00, 415465.26it/s]\u001b[A\n",
            "  0%|          | 0/2850 [00:00<?, ?it/s]\u001b[A\n",
            "100%|██████████| 2850/2850 [00:00<00:00, 434461.23it/s]\u001b[A\n",
            "  0%|          | 0/2850 [00:00<?, ?it/s]\u001b[A\n",
            "100%|██████████| 2850/2850 [00:00<00:00, 397227.47it/s]\u001b[A\n",
            "  0%|          | 0/2850 [00:00<?, ?it/s]\u001b[A\n",
            "100%|██████████| 2850/2850 [00:00<00:00, 434729.84it/s]\u001b[A\n",
            "  0%|          | 0/2850 [00:00<?, ?it/s]\u001b[A\n",
            "100%|██████████| 2850/2850 [00:00<00:00, 405831.49it/s]\u001b[A\n",
            "  0%|          | 0/2850 [00:00<?, ?it/s]\u001b[A\n",
            "100%|██████████| 2850/2850 [00:00<00:00, 380559.88it/s]\u001b[A\n",
            "  0%|          | 0/2850 [00:00<?, ?it/s]\u001b[A\n",
            "100%|██████████| 2850/2850 [00:00<00:00, 399337.42it/s]\u001b[A\n",
            "  0%|          | 0/2850 [00:00<?, ?it/s]\u001b[A\n",
            " 94%|█████████▍| 188/200 [00:02<00:00, 78.67it/s]\n",
            "  0%|          | 0/2850 [00:00<?, ?it/s]\u001b[A\n",
            "100%|██████████| 2850/2850 [00:00<00:00, 392570.33it/s]\u001b[A\n",
            "  0%|          | 0/2850 [00:00<?, ?it/s]\u001b[A\n",
            "100%|██████████| 2850/2850 [00:00<00:00, 389576.54it/s]\u001b[A\n",
            "  0%|          | 0/2850 [00:00<?, ?it/s]\u001b[A\n",
            "100%|██████████| 2850/2850 [00:00<00:00, 402605.72it/s]\u001b[A\n",
            "  0%|          | 0/2850 [00:00<?, ?it/s]\u001b[A\n",
            "100%|██████████| 2850/2850 [00:00<00:00, 418314.89it/s]\u001b[A\n",
            "  0%|          | 0/2850 [00:00<?, ?it/s]\u001b[A\n",
            "100%|██████████| 2850/2850 [00:00<00:00, 425249.61it/s]\u001b[A\n",
            "  0%|          | 0/2850 [00:00<?, ?it/s]\u001b[A\n",
            "100%|██████████| 2850/2850 [00:00<00:00, 431108.14it/s]\u001b[A\n",
            "  0%|          | 0/2850 [00:00<?, ?it/s]\u001b[A\n",
            "100%|██████████| 2850/2850 [00:00<00:00, 398458.88it/s]\u001b[A\n",
            "  0%|          | 0/2850 [00:00<?, ?it/s]\u001b[A\n",
            "100%|██████████| 2850/2850 [00:00<00:00, 403775.25it/s]\u001b[A\n",
            "  0%|          | 0/2850 [00:00<?, ?it/s]\u001b[A\n",
            " 98%|█████████▊| 197/200 [00:02<00:00, 79.65it/s]\n",
            "  0%|          | 0/2850 [00:00<?, ?it/s]\u001b[A\n",
            "100%|██████████| 2850/2850 [00:00<00:00, 429744.26it/s]\u001b[A\n",
            "  0%|          | 0/2850 [00:00<?, ?it/s]\u001b[A\n",
            "100%|██████████| 2850/2850 [00:00<00:00, 451000.43it/s]\u001b[A\n",
            "  0%|          | 0/2850 [00:00<?, ?it/s]\u001b[A\n",
            "100%|██████████| 200/200 [00:02<00:00, 77.29it/s]\n",
            "100%|██████████| 20/20 [00:00<00:00, 40156.09it/s]\n"
          ],
          "name": "stderr"
        },
        {
          "output_type": "stream",
          "text": [
            "200\n",
            "20\n",
            "[0.4485087719298247, 0.4474736842105263, 0.44445614035087716, 0.4391052631578948, 0.42447368421052634, 0.3842456140350877, 0.33549122807017545, 0.27782456140350875, 0.21801754385964914, 0.1832280701754386, 0.16050877192982455, 0.15229824561403507, 0.1525614035087719, 0.152, 0.1519122807017544, 0.15482456140350878, 0.15582456140350875, 0.151859649122807, 0.15417543859649122, 0.15175438596491228]\n"
          ],
          "name": "stdout"
        },
        {
          "output_type": "display_data",
          "data": {
            "image/png": "[encoded data removed]",
            "text/plain": [
              "<Figure size 1080x1080 with 1 Axes>"
            ]
          },
          "metadata": {
            "tags": []
          }
        }
      ]
    },
    {
      "cell_type": "markdown",
      "metadata": {
        "id": "i6_QFCGn6RQK",
        "colab_type": "text"
      },
      "source": [
        "## 2."
      ]
    },
    {
      "cell_type": "code",
      "metadata": {
        "id": "E88kNznP6zeE",
        "colab_type": "code",
        "outputId": "82a40c70-759f-4239-c730-efec440b9675",
        "colab": {
          "base_uri": "https://localhost:8080/",
          "height": 884
        }
      },
      "source": [
        "plt.plot(mods,acc[10::20])"
      ],
      "execution_count": 0,
      "outputs": [
        {
          "output_type": "execute_result",
          "data": {
            "text/plain": [
              "[<matplotlib.lines.Line2D at 0x7f3ba49ccf60>]"
            ]
          },
          "metadata": {
            "tags": []
          },
          "execution_count": 18
        },
        {
          "output_type": "display_data",
          "data": {
            "image/png": "[encoded data removed]",
            "text/plain": [
              "<Figure size 1080x1080 with 1 Axes>"
            ]
          },
          "metadata": {
            "tags": []
          }
        }
      ]
    },
    {
      "cell_type": "markdown",
      "metadata": {
        "id": "qiJNP3Hzge8b",
        "colab_type": "text"
      },
      "source": [
        "###3. Show confusion matrices and find the most confusing classes."
      ]
    },
    {
      "cell_type": "code",
      "metadata": {
        "id": "RlCxg7ME-Zqj",
        "colab_type": "code",
        "outputId": "98a55a13-1bd4-4da1-eaed-8c3fd411c60b",
        "colab": {
          "base_uri": "https://localhost:8080/",
          "height": 1075
        }
      },
      "source": [
        "# def plot_confusion_matrix(cm, title='Confusion matrix', cmap=plt.cm.Blues, labels=[]):\n",
        "#     plt.imshow(cm, interpolation='nearest', cmap=cmap)\n",
        "#     plt.title(title)\n",
        "#     plt.colorbar()\n",
        "#     tick_marks = np.arange(len(labels))\n",
        "#     plt.xticks(tick_marks, labels, rotation=45)\n",
        "#     plt.yticks(tick_marks, labels)\n",
        "#     plt.tight_layout()\n",
        "#     plt.ylabel('True label')\n",
        "#     plt.xlabel('Predicted label')\n",
        "    \n",
        "# plot_confusion_matrix(cm, labels=test_lbl)\n",
        "cm = confusion_matrix(test_lbl_encoded, rounded_pred)\n",
        "\n",
        " \n",
        "print(cm)\n",
        "plt.matshow(cm)\n",
        "print(mods)"
      ],
      "execution_count": 0,
      "outputs": [
        {
          "output_type": "stream",
          "text": [
            "[[21019  1416  2541 12415  1781    24   766   681 15816   541]\n",
            " [ 4571 41284  1457  2592  1291     9    10     0  1918  3868]\n",
            " [ 8507  1479 37780  5147  1057   500    49    13  1832   636]\n",
            " [ 8817  1452  2314 39512  2360    30   101    56  1786   572]\n",
            " [ 6693  2141  1920  6528 35522    26    56    44  1647  2423]\n",
            " [ 6046  1085  9597  3949   899 33622    51    11  1323   417]\n",
            " [11772   800  1783  6340  1144   181  4267 27510  2861   342]\n",
            " [ 8863   515  1269  5182   911   192  3750 34356  1699   263]\n",
            " [18000  1395  2612 12787  1674    28   701   666 18565   572]\n",
            " [ 4809 30167  1510  2952  4574    11    15     4  1896 11062]]\n",
            "[b'8PSK', b'AM-DSB', b'BPSK', b'CPFSK', b'GFSK', b'PAM4', b'QAM16', b'QAM64', b'QPSK', b'WBFM']\n"
          ],
          "name": "stdout"
        },
        {
          "output_type": "display_data",
          "data": {
            "image/png": "[encoded data removed]",
            "text/plain": [
              "<Figure size 1080x1080 with 1 Axes>"
            ]
          },
          "metadata": {
            "tags": []
          }
        }
      ]
    },
    {
      "cell_type": "code",
      "metadata": {
        "id": "RtfdnO4Nrjo4",
        "colab_type": "code",
        "colab": {}
      },
      "source": [
        ""
      ],
      "execution_count": 0,
      "outputs": []
    }
  ]
}